{
 "cells": [
  {
   "cell_type": "markdown",
   "id": "29d3b3fe",
   "metadata": {},
   "source": [
    "<img style=\"float: left;\" src=\"./images/PalleAI-Banner1.png\" width=\"800\">"
   ]
  },
  {
   "cell_type": "markdown",
   "id": "fccee792",
   "metadata": {},
   "source": [
    "# Transfer Learning: Leveraging Pretrained Models\n",
    "\n",
    "**VGG16, Inception, Xception, Resnet, MobileNet etc.**\n",
    "1. Features learned by a pretrained model can effectively act as generic models of visual world.\n",
    "2. By using the features learned by pretrained model, we can jump start and potentially enhance our model performance\n",
    "3. This process is called transfer learning\n",
    "4. Portability of learned features across different problems is a key advantage of deep learning models"
   ]
  },
  {
   "cell_type": "markdown",
   "id": "5569aed8",
   "metadata": {},
   "source": [
    "### Advantages of leveraging pretrained models"
   ]
  },
  {
   "cell_type": "markdown",
   "id": "31f89220",
   "metadata": {},
   "source": [
    "* Time and Computational Efficiency\n",
    "* Improved Performance in Low Data Regimes\n",
    "* Access to low and High-level Features\n",
    "* Versatility and Adaptability\n",
    "* Ease of Use and Accessibility"
   ]
  },
  {
   "cell_type": "markdown",
   "id": "251059f6",
   "metadata": {},
   "source": [
    "## VGG16 Model\n",
    "\n",
    "### PreTrained on ImageNet dataset: 1.4 million images with 1000 different classes"
   ]
  },
  {
   "cell_type": "markdown",
   "id": "59b3da7b",
   "metadata": {},
   "source": [
    "<img style=\"float: left;\" src=\"./images/vgg16-2.png\" width=\"800\">"
   ]
  },
  {
   "cell_type": "markdown",
   "id": "4decb398",
   "metadata": {},
   "source": [
    "### Transfer Learning can be done in many different ways depending on the task at hand\n",
    "\n",
    "1.  Extract the features from pretrained models and use that as a starting point for our training \n",
    "\n",
    "\n",
    "2.  Fine tune the pretrained model \n",
    "    * By freezing the convbase of the model\n",
    "    * By freezing some layers and unfreezing some layers\n",
    "    * By fine-tuning all the layers."
   ]
  },
  {
   "cell_type": "markdown",
   "id": "533f324b",
   "metadata": {},
   "source": [
    "## Feature Extraction"
   ]
  },
  {
   "cell_type": "markdown",
   "id": "162adc49",
   "metadata": {},
   "source": [
    "**Import needed libraries**"
   ]
  },
  {
   "cell_type": "code",
   "execution_count": 1,
   "id": "6a9babbb",
   "metadata": {},
   "outputs": [],
   "source": [
    "#Basic Python packages for data wrangling\n",
    "import numpy as np\n",
    "import pandas as pd\n",
    "import matplotlib.pyplot as plt\n",
    "import random\n",
    "\n",
    "#Tensorflow & Keras related packages\n",
    "import tensorflow as tf\n",
    "from tensorflow import keras\n",
    "from tensorflow.keras import layers\n",
    "#from keras import layers\n",
    "\n",
    "from utils import plot_history"
   ]
  },
  {
   "cell_type": "markdown",
   "id": "f50a78ca",
   "metadata": {},
   "source": [
    "**Load Cifar Dataset Preloaded in Keras**"
   ]
  },
  {
   "cell_type": "code",
   "execution_count": 2,
   "id": "24f0320c",
   "metadata": {},
   "outputs": [],
   "source": [
    "from tensorflow.keras.datasets import cifar10"
   ]
  },
  {
   "cell_type": "code",
   "execution_count": 3,
   "id": "14d20b97",
   "metadata": {},
   "outputs": [],
   "source": [
    "(train_images, train_labels), (test_images, test_labels) = cifar10.load_data()"
   ]
  },
  {
   "cell_type": "code",
   "execution_count": 4,
   "id": "7c156f2e",
   "metadata": {},
   "outputs": [
    {
     "data": {
      "text/plain": [
       "(50000, 32, 32, 3)"
      ]
     },
     "execution_count": 4,
     "metadata": {},
     "output_type": "execute_result"
    }
   ],
   "source": [
    "train_images.shape"
   ]
  },
  {
   "cell_type": "code",
   "execution_count": 5,
   "id": "74a344c0",
   "metadata": {},
   "outputs": [
    {
     "data": {
      "text/plain": [
       "(10000, 32, 32, 3)"
      ]
     },
     "execution_count": 5,
     "metadata": {},
     "output_type": "execute_result"
    }
   ],
   "source": [
    "test_images.shape"
   ]
  },
  {
   "cell_type": "markdown",
   "id": "52b6491d",
   "metadata": {},
   "source": [
    "### Preprocess Data"
   ]
  },
  {
   "cell_type": "markdown",
   "id": "c4529eb0",
   "metadata": {},
   "source": [
    "1. We will preprocess data as the VGG16 model expects\n",
    "2. We will also convert our training data (train_images,train_labels) into a tf.data object"
   ]
  },
  {
   "cell_type": "code",
   "execution_count": 6,
   "id": "d6a6a79e",
   "metadata": {},
   "outputs": [],
   "source": [
    "# This function preprocess the images as per the requirements of vgg16 pretrained model\n",
    "def preprocess_image(image, label):\n",
    "    \n",
    "    image = tf.image.resize(image, [224, 224]) # Resize the image\n",
    "    image = keras.applications.vgg16.preprocess_input(image)\n",
    "    \n",
    "    #image = image / 255.0  # We were scaling our images like this before\n",
    "    return image, label"
   ]
  },
  {
   "cell_type": "code",
   "execution_count": 7,
   "id": "53f3302c",
   "metadata": {},
   "outputs": [],
   "source": [
    "# This function is converting our training data into a Tensorflow data objects\n",
    "\n",
    "# The make_dataset function below efficiently prepares a dataset by converting into tf.data object\n",
    "# ...by applying necessary preprocessing, organizing data into batches, \n",
    "# ...and ensuring data is loaded efficiently through prefetching. \n",
    "\n",
    "# This preparation is crucial for training deep learning models effectively and efficiently, \n",
    "# ..especially when working with large datasets with tensorflow/keras\n",
    "\n",
    "def make_dataset(images, labels, batch_size):\n",
    "    \n",
    "     #tf.data object for efficient data loading & preprocessing\n",
    "    dataset = tf.data.Dataset.from_tensor_slices((images, labels))     \n",
    "    dataset = dataset.map(preprocess_image, num_parallel_calls=tf.data.experimental.AUTOTUNE)\n",
    "    dataset = dataset.batch(batch_size).prefetch(tf.data.experimental.AUTOTUNE)\n",
    "    \n",
    "    return dataset\n",
    "\n",
    "# tf.data.experimental.AUTOTUNE allows TensorFlow to dynamically determine the optimal number \n",
    "#...of parallel calls to perform when mapping the preprocessing function, improving data loading efficiency."
   ]
  },
  {
   "cell_type": "markdown",
   "id": "85d937a9",
   "metadata": {},
   "source": [
    "**Tensorflow Data Objects: tf.data.Dataset**"
   ]
  },
  {
   "cell_type": "markdown",
   "id": "1112d261",
   "metadata": {},
   "source": [
    "* tf.data.Dataset is an iterator and will return batches of input data and labels\n",
    "* Easy way to manipulate training data sets\n",
    "* Performance optimization: easy implementation of data loading and preprocessing enhancing training speed\n",
    "* Scalability: it supports wide range of data sources: in memory arrays to distributed file systems\n",
    "* Basically it streamlines the data handling process and ensures that models can be trained more efficiently and effectively."
   ]
  },
  {
   "cell_type": "markdown",
   "id": "6c29c9d5",
   "metadata": {},
   "source": [
    "The tf.data API is designed for efficient input data pipeline creation. It allows for optimized data loading, preprocessing, and augmentation, which is crucial when dealing with large datasets or when running on distributed systems."
   ]
  },
  {
   "cell_type": "markdown",
   "id": "6903c305",
   "metadata": {},
   "source": [
    "Small Datasets: If your dataset is small and fits into memory, directly using NumPy arrays might be simpler and sufficient.\n",
    "Large Datasets: For large datasets, or when you need to perform complex preprocessing, shuffling, or augmentations, using tf.data is recommended."
   ]
  },
  {
   "cell_type": "code",
   "execution_count": 8,
   "id": "5f7ef8b1",
   "metadata": {},
   "outputs": [],
   "source": [
    "# Preprocess training & test data by converting it into a tf.data.Dataset object and \n",
    "#...preprocess as vgg16 model expects the input to be\n",
    "\n",
    "train_dataset = make_dataset(train_images, train_labels, batch_size=128)\n",
    "test_dataset = make_dataset(test_images, test_labels, batch_size=128)"
   ]
  },
  {
   "cell_type": "code",
   "execution_count": 9,
   "id": "5902a1da",
   "metadata": {},
   "outputs": [
    {
     "data": {
      "text/plain": [
       "<PrefetchDataset element_spec=(TensorSpec(shape=(None, 224, 224, 3), dtype=tf.float32, name=None), TensorSpec(shape=(None, 1), dtype=tf.uint8, name=None))>"
      ]
     },
     "execution_count": 9,
     "metadata": {},
     "output_type": "execute_result"
    }
   ],
   "source": [
    "train_dataset"
   ]
  },
  {
   "cell_type": "code",
   "execution_count": 10,
   "id": "a38e69f9",
   "metadata": {},
   "outputs": [
    {
     "name": "stdout",
     "output_type": "stream",
     "text": [
      "(128, 224, 224, 3)\n",
      "(128, 1)\n",
      "(128, 224, 224, 3)\n",
      "(128, 1)\n",
      "(128, 224, 224, 3)\n",
      "(128, 1)\n"
     ]
    }
   ],
   "source": [
    "for images, labels in train_dataset.take(3):\n",
    "    print (images.shape)\n",
    "    print (labels.shape)"
   ]
  },
  {
   "cell_type": "code",
   "execution_count": 11,
   "id": "554baa66",
   "metadata": {},
   "outputs": [
    {
     "name": "stdout",
     "output_type": "stream",
     "text": [
      "tf.Tensor(\n",
      "[[6]\n",
      " [9]\n",
      " [9]], shape=(3, 1), dtype=uint8)\n"
     ]
    }
   ],
   "source": [
    "for images, labels in train_dataset.take(1):\n",
    "    print (labels[0:3])\n",
    "# looking at first 3 labels in the first batch of training data"
   ]
  },
  {
   "cell_type": "code",
   "execution_count": 12,
   "id": "7578ab2d",
   "metadata": {},
   "outputs": [
    {
     "name": "stdout",
     "output_type": "stream",
     "text": [
      "tf.Tensor(\n",
      "[[[[-40.939003  -54.779     -64.68     ]\n",
      "   [-40.939003  -54.779     -64.68     ]\n",
      "   [-40.939003  -54.779     -64.68     ]\n",
      "   ...\n",
      "   [ -0.939003    7.2210007  24.32     ]\n",
      "   [ -0.939003    7.2210007  24.32     ]\n",
      "   [ -0.939003    7.2210007  24.32     ]]\n",
      "\n",
      "  [[-40.939003  -54.779     -64.68     ]\n",
      "   [-40.939003  -54.779     -64.68     ]\n",
      "   [-40.939003  -54.779     -64.68     ]\n",
      "   ...\n",
      "   [ -0.939003    7.2210007  24.32     ]\n",
      "   [ -0.939003    7.2210007  24.32     ]\n",
      "   [ -0.939003    7.2210007  24.32     ]]\n",
      "\n",
      "  [[-40.939003  -54.779     -64.68     ]\n",
      "   [-40.939003  -54.779     -64.68     ]\n",
      "   [-40.939003  -54.779     -64.68     ]\n",
      "   ...\n",
      "   [ -0.939003    7.2210007  24.32     ]\n",
      "   [ -0.939003    7.2210007  24.32     ]\n",
      "   [ -0.939003    7.2210007  24.32     ]]\n",
      "\n",
      "  ...\n",
      "\n",
      "  [[ 12.060997   27.221      53.32     ]\n",
      "   [ 12.060997   27.221      53.32     ]\n",
      "   [ 12.060997   27.221      53.32     ]\n",
      "   ...\n",
      "   [-31.939003  -24.779      -0.6800003]\n",
      "   [-31.939003  -24.779      -0.6800003]\n",
      "   [-31.939003  -24.779      -0.6800003]]\n",
      "\n",
      "  [[ 12.060997   27.221      53.32     ]\n",
      "   [ 12.060997   27.221      53.32     ]\n",
      "   [ 12.060997   27.221      53.32     ]\n",
      "   ...\n",
      "   [-31.939003  -24.779      -0.6800003]\n",
      "   [-31.939003  -24.779      -0.6800003]\n",
      "   [-31.939003  -24.779      -0.6800003]]\n",
      "\n",
      "  [[ 12.060997   27.221      53.32     ]\n",
      "   [ 12.060997   27.221      53.32     ]\n",
      "   [ 12.060997   27.221      53.32     ]\n",
      "   ...\n",
      "   [-31.939003  -24.779      -0.6800003]\n",
      "   [-31.939003  -24.779      -0.6800003]\n",
      "   [-31.939003  -24.779      -0.6800003]]]\n",
      "\n",
      "\n",
      " [[[ 83.061      60.221      30.32     ]\n",
      "   [ 83.061      60.221      30.32     ]\n",
      "   [ 83.061      60.221      30.32     ]\n",
      "   ...\n",
      "   [-33.939003  -35.779     -44.68     ]\n",
      "   [-33.939003  -35.779     -44.68     ]\n",
      "   [-33.939003  -35.779     -44.68     ]]\n",
      "\n",
      "  [[ 83.061      60.221      30.32     ]\n",
      "   [ 83.061      60.221      30.32     ]\n",
      "   [ 83.061      60.221      30.32     ]\n",
      "   ...\n",
      "   [-33.939003  -35.779     -44.68     ]\n",
      "   [-33.939003  -35.779     -44.68     ]\n",
      "   [-33.939003  -35.779     -44.68     ]]\n",
      "\n",
      "  [[ 83.061      60.221      30.32     ]\n",
      "   [ 83.061      60.221      30.32     ]\n",
      "   [ 83.061      60.221      30.32     ]\n",
      "   ...\n",
      "   [-33.939003  -35.779     -44.68     ]\n",
      "   [-33.939003  -35.779     -44.68     ]\n",
      "   [-33.939003  -35.779     -44.68     ]]\n",
      "\n",
      "  ...\n",
      "\n",
      "  [[ 16.060997   31.221      39.32     ]\n",
      "   [ 16.060997   31.221      39.32     ]\n",
      "   [ 16.060997   31.221      39.32     ]\n",
      "   ...\n",
      "   [ 40.060997   16.221      19.32     ]\n",
      "   [ 40.060997   16.221      19.32     ]\n",
      "   [ 40.060997   16.221      19.32     ]]\n",
      "\n",
      "  [[ 16.060997   31.221      39.32     ]\n",
      "   [ 16.060997   31.221      39.32     ]\n",
      "   [ 16.060997   31.221      39.32     ]\n",
      "   ...\n",
      "   [ 40.060997   16.221      19.32     ]\n",
      "   [ 40.060997   16.221      19.32     ]\n",
      "   [ 40.060997   16.221      19.32     ]]\n",
      "\n",
      "  [[ 16.060997   31.221      39.32     ]\n",
      "   [ 16.060997   31.221      39.32     ]\n",
      "   [ 16.060997   31.221      39.32     ]\n",
      "   ...\n",
      "   [ 40.060997   16.221      19.32     ]\n",
      "   [ 40.060997   16.221      19.32     ]\n",
      "   [ 40.060997   16.221      19.32     ]]]\n",
      "\n",
      "\n",
      " [[[151.061     138.22101   131.32     ]\n",
      "   [151.061     138.22101   131.32     ]\n",
      "   [151.061     138.22101   131.32     ]\n",
      "   ...\n",
      "   [149.061     136.22101   129.32     ]\n",
      "   [149.061     136.22101   129.32     ]\n",
      "   [149.061     136.22101   129.32     ]]\n",
      "\n",
      "  [[151.061     138.22101   131.32     ]\n",
      "   [151.061     138.22101   131.32     ]\n",
      "   [151.061     138.22101   131.32     ]\n",
      "   ...\n",
      "   [149.061     136.22101   129.32     ]\n",
      "   [149.061     136.22101   129.32     ]\n",
      "   [149.061     136.22101   129.32     ]]\n",
      "\n",
      "  [[151.061     138.22101   131.32     ]\n",
      "   [151.061     138.22101   131.32     ]\n",
      "   [151.061     138.22101   131.32     ]\n",
      "   ...\n",
      "   [149.061     136.22101   129.32     ]\n",
      "   [149.061     136.22101   129.32     ]\n",
      "   [149.061     136.22101   129.32     ]]\n",
      "\n",
      "  ...\n",
      "\n",
      "  [[  1.060997   -3.7789993 -17.68     ]\n",
      "   [  1.060997   -3.7789993 -17.68     ]\n",
      "   [  1.060997   -3.7789993 -17.68     ]\n",
      "   ...\n",
      "   [-19.939003  -30.779     -43.68     ]\n",
      "   [-19.939003  -30.779     -43.68     ]\n",
      "   [-19.939003  -30.779     -43.68     ]]\n",
      "\n",
      "  [[  1.060997   -3.7789993 -17.68     ]\n",
      "   [  1.060997   -3.7789993 -17.68     ]\n",
      "   [  1.060997   -3.7789993 -17.68     ]\n",
      "   ...\n",
      "   [-19.939003  -30.779     -43.68     ]\n",
      "   [-19.939003  -30.779     -43.68     ]\n",
      "   [-19.939003  -30.779     -43.68     ]]\n",
      "\n",
      "  [[  1.060997   -3.7789993 -17.68     ]\n",
      "   [  1.060997   -3.7789993 -17.68     ]\n",
      "   [  1.060997   -3.7789993 -17.68     ]\n",
      "   ...\n",
      "   [-19.939003  -30.779     -43.68     ]\n",
      "   [-19.939003  -30.779     -43.68     ]\n",
      "   [-19.939003  -30.779     -43.68     ]]]], shape=(3, 224, 224, 3), dtype=float32)\n"
     ]
    }
   ],
   "source": [
    "for images, labels in train_dataset.take(1):\n",
    "    print (images[0:3])\n",
    "# looking at first 3 labels in the first batch of training data"
   ]
  },
  {
   "cell_type": "markdown",
   "id": "dd6bc171",
   "metadata": {},
   "source": [
    "### Load  VGG16 Architecture trained on ImageNet dataset: 1.4 million images with 1000 different classes"
   ]
  },
  {
   "cell_type": "markdown",
   "id": "9de19d23",
   "metadata": {},
   "source": [
    "<img style=\"float: left;\" src=\"./images/vgg16-2.png\" width=\"800\">"
   ]
  },
  {
   "cell_type": "code",
   "execution_count": 13,
   "id": "deb2a1ba",
   "metadata": {},
   "outputs": [],
   "source": [
    "# Load the Convolution base of the architecture. We will ignore the last three layers\n",
    "convbase_model = keras.applications.vgg16.VGG16(\n",
    "    weights=\"imagenet\",\n",
    "    include_top=False,\n",
    "    input_shape=(224,224,3))"
   ]
  },
  {
   "cell_type": "code",
   "execution_count": 14,
   "id": "914da574",
   "metadata": {},
   "outputs": [
    {
     "name": "stdout",
     "output_type": "stream",
     "text": [
      "Model: \"vgg16\"\n",
      "_________________________________________________________________\n",
      " Layer (type)                Output Shape              Param #   \n",
      "=================================================================\n",
      " input_1 (InputLayer)        [(None, 224, 224, 3)]     0         \n",
      "                                                                 \n",
      " block1_conv1 (Conv2D)       (None, 224, 224, 64)      1792      \n",
      "                                                                 \n",
      " block1_conv2 (Conv2D)       (None, 224, 224, 64)      36928     \n",
      "                                                                 \n",
      " block1_pool (MaxPooling2D)  (None, 112, 112, 64)      0         \n",
      "                                                                 \n",
      " block2_conv1 (Conv2D)       (None, 112, 112, 128)     73856     \n",
      "                                                                 \n",
      " block2_conv2 (Conv2D)       (None, 112, 112, 128)     147584    \n",
      "                                                                 \n",
      " block2_pool (MaxPooling2D)  (None, 56, 56, 128)       0         \n",
      "                                                                 \n",
      " block3_conv1 (Conv2D)       (None, 56, 56, 256)       295168    \n",
      "                                                                 \n",
      " block3_conv2 (Conv2D)       (None, 56, 56, 256)       590080    \n",
      "                                                                 \n",
      " block3_conv3 (Conv2D)       (None, 56, 56, 256)       590080    \n",
      "                                                                 \n",
      " block3_pool (MaxPooling2D)  (None, 28, 28, 256)       0         \n",
      "                                                                 \n",
      " block4_conv1 (Conv2D)       (None, 28, 28, 512)       1180160   \n",
      "                                                                 \n",
      " block4_conv2 (Conv2D)       (None, 28, 28, 512)       2359808   \n",
      "                                                                 \n",
      " block4_conv3 (Conv2D)       (None, 28, 28, 512)       2359808   \n",
      "                                                                 \n",
      " block4_pool (MaxPooling2D)  (None, 14, 14, 512)       0         \n",
      "                                                                 \n",
      " block5_conv1 (Conv2D)       (None, 14, 14, 512)       2359808   \n",
      "                                                                 \n",
      " block5_conv2 (Conv2D)       (None, 14, 14, 512)       2359808   \n",
      "                                                                 \n",
      " block5_conv3 (Conv2D)       (None, 14, 14, 512)       2359808   \n",
      "                                                                 \n",
      " block5_pool (MaxPooling2D)  (None, 7, 7, 512)         0         \n",
      "                                                                 \n",
      "=================================================================\n",
      "Total params: 14,714,688\n",
      "Trainable params: 14,714,688\n",
      "Non-trainable params: 0\n",
      "_________________________________________________________________\n"
     ]
    }
   ],
   "source": [
    "convbase_model.summary()"
   ]
  },
  {
   "cell_type": "markdown",
   "id": "63571af3",
   "metadata": {},
   "source": [
    "<img style=\"float: left;\" src=\"./images/vgg16-2.png\" width=\"800\">"
   ]
  },
  {
   "cell_type": "markdown",
   "id": "f6d2c78f",
   "metadata": {},
   "source": [
    "### Extract Features from the VGG16 Convolutional base"
   ]
  },
  {
   "cell_type": "code",
   "execution_count": 15,
   "id": "7e5a4338",
   "metadata": {},
   "outputs": [],
   "source": [
    "# Define a function to extract the features from VGG16 conv base model\n",
    "#...when given some input data as tf.data object\n",
    "\n",
    "def extract_features(tfdata):\n",
    "    features = []\n",
    "    labels = []\n",
    "    \n",
    "    # we previously preprocessed our data into tf.data objects, on which we iterate\n",
    "    for batch_images, batch_labels in tfdata: \n",
    "        \n",
    "        #feed our images in batches to the convbase model for inference and extract features.\n",
    "        vgg16_output = convbase_model.predict(batch_images)  \n",
    "        features.append(vgg16_output)\n",
    "        \n",
    "        labels.append(batch_labels)\n",
    "        \n",
    "    return np.concatenate(features), np.concatenate(labels)"
   ]
  },
  {
   "cell_type": "code",
   "execution_count": 16,
   "id": "9e2b0902",
   "metadata": {},
   "outputs": [
    {
     "name": "stdout",
     "output_type": "stream",
     "text": [
      "4/4 [==============================] - 6s 47ms/step\n",
      "4/4 [==============================] - 0s 63ms/step\n",
      "4/4 [==============================] - 0s 66ms/step\n",
      "4/4 [==============================] - 0s 66ms/step\n",
      "4/4 [==============================] - 0s 66ms/step\n",
      "4/4 [==============================] - 0s 64ms/step\n",
      "4/4 [==============================] - 0s 64ms/step\n",
      "4/4 [==============================] - 0s 72ms/step\n",
      "4/4 [==============================] - 0s 69ms/step\n",
      "4/4 [==============================] - 0s 66ms/step\n",
      "4/4 [==============================] - 0s 66ms/step\n",
      "4/4 [==============================] - 0s 69ms/step\n",
      "4/4 [==============================] - 0s 70ms/step\n",
      "4/4 [==============================] - 0s 62ms/step\n",
      "4/4 [==============================] - 0s 65ms/step\n",
      "4/4 [==============================] - 0s 69ms/step\n",
      "4/4 [==============================] - 0s 62ms/step\n",
      "4/4 [==============================] - 0s 61ms/step\n",
      "4/4 [==============================] - 0s 63ms/step\n",
      "4/4 [==============================] - 0s 66ms/step\n",
      "4/4 [==============================] - 0s 61ms/step\n",
      "4/4 [==============================] - 0s 66ms/step\n",
      "4/4 [==============================] - 0s 66ms/step\n",
      "4/4 [==============================] - 0s 65ms/step\n",
      "4/4 [==============================] - 0s 65ms/step\n",
      "4/4 [==============================] - 0s 63ms/step\n",
      "4/4 [==============================] - 0s 65ms/step\n",
      "4/4 [==============================] - 0s 66ms/step\n",
      "4/4 [==============================] - 0s 62ms/step\n",
      "4/4 [==============================] - 0s 65ms/step\n",
      "4/4 [==============================] - 0s 63ms/step\n",
      "4/4 [==============================] - 0s 64ms/step\n",
      "4/4 [==============================] - 0s 64ms/step\n",
      "4/4 [==============================] - 0s 66ms/step\n",
      "4/4 [==============================] - 0s 62ms/step\n",
      "4/4 [==============================] - 0s 64ms/step\n",
      "4/4 [==============================] - 0s 66ms/step\n",
      "4/4 [==============================] - 0s 64ms/step\n",
      "4/4 [==============================] - 0s 64ms/step\n",
      "4/4 [==============================] - 0s 63ms/step\n",
      "4/4 [==============================] - 0s 63ms/step\n",
      "4/4 [==============================] - 0s 65ms/step\n",
      "4/4 [==============================] - 0s 66ms/step\n",
      "4/4 [==============================] - 0s 64ms/step\n",
      "4/4 [==============================] - 0s 64ms/step\n",
      "4/4 [==============================] - 0s 65ms/step\n",
      "4/4 [==============================] - 0s 65ms/step\n",
      "4/4 [==============================] - 0s 64ms/step\n",
      "4/4 [==============================] - 0s 66ms/step\n",
      "4/4 [==============================] - 0s 66ms/step\n",
      "4/4 [==============================] - 0s 65ms/step\n",
      "4/4 [==============================] - 0s 65ms/step\n",
      "4/4 [==============================] - 0s 66ms/step\n",
      "4/4 [==============================] - 0s 66ms/step\n",
      "4/4 [==============================] - 0s 65ms/step\n",
      "4/4 [==============================] - 0s 64ms/step\n",
      "4/4 [==============================] - 0s 62ms/step\n",
      "4/4 [==============================] - 0s 65ms/step\n",
      "4/4 [==============================] - 0s 65ms/step\n",
      "4/4 [==============================] - 0s 63ms/step\n",
      "4/4 [==============================] - 0s 65ms/step\n",
      "4/4 [==============================] - 0s 62ms/step\n",
      "4/4 [==============================] - 0s 65ms/step\n",
      "4/4 [==============================] - 0s 67ms/step\n",
      "4/4 [==============================] - 0s 63ms/step\n",
      "4/4 [==============================] - 0s 64ms/step\n",
      "4/4 [==============================] - 0s 67ms/step\n",
      "4/4 [==============================] - 0s 64ms/step\n",
      "4/4 [==============================] - 0s 60ms/step\n",
      "4/4 [==============================] - 0s 65ms/step\n",
      "4/4 [==============================] - 0s 65ms/step\n",
      "4/4 [==============================] - 0s 64ms/step\n",
      "4/4 [==============================] - 0s 66ms/step\n",
      "4/4 [==============================] - 0s 66ms/step\n",
      "4/4 [==============================] - 0s 65ms/step\n",
      "4/4 [==============================] - 0s 65ms/step\n",
      "4/4 [==============================] - 0s 66ms/step\n",
      "4/4 [==============================] - 0s 64ms/step\n",
      "4/4 [==============================] - 0s 65ms/step\n",
      "4/4 [==============================] - 0s 63ms/step\n",
      "4/4 [==============================] - 0s 64ms/step\n",
      "4/4 [==============================] - 0s 65ms/step\n",
      "4/4 [==============================] - 0s 66ms/step\n",
      "4/4 [==============================] - 0s 64ms/step\n",
      "4/4 [==============================] - 0s 65ms/step\n",
      "4/4 [==============================] - 0s 66ms/step\n",
      "4/4 [==============================] - 0s 64ms/step\n",
      "4/4 [==============================] - 0s 65ms/step\n",
      "4/4 [==============================] - 0s 65ms/step\n",
      "4/4 [==============================] - 0s 67ms/step\n",
      "4/4 [==============================] - 0s 66ms/step\n",
      "4/4 [==============================] - 0s 63ms/step\n",
      "4/4 [==============================] - 0s 65ms/step\n",
      "4/4 [==============================] - 0s 65ms/step\n",
      "4/4 [==============================] - 0s 65ms/step\n",
      "4/4 [==============================] - 0s 66ms/step\n",
      "4/4 [==============================] - 0s 65ms/step\n",
      "4/4 [==============================] - 0s 65ms/step\n",
      "4/4 [==============================] - 0s 64ms/step\n",
      "4/4 [==============================] - 0s 66ms/step\n",
      "4/4 [==============================] - 0s 66ms/step\n",
      "4/4 [==============================] - 0s 63ms/step\n",
      "4/4 [==============================] - 0s 64ms/step\n",
      "4/4 [==============================] - 0s 65ms/step\n",
      "4/4 [==============================] - 0s 65ms/step\n",
      "4/4 [==============================] - 0s 63ms/step\n",
      "4/4 [==============================] - 0s 64ms/step\n",
      "4/4 [==============================] - 0s 64ms/step\n",
      "4/4 [==============================] - 0s 64ms/step\n",
      "4/4 [==============================] - 0s 66ms/step\n",
      "4/4 [==============================] - 0s 64ms/step\n",
      "4/4 [==============================] - 0s 66ms/step\n",
      "4/4 [==============================] - 0s 64ms/step\n",
      "4/4 [==============================] - 0s 69ms/step\n",
      "4/4 [==============================] - 0s 65ms/step\n",
      "4/4 [==============================] - 0s 66ms/step\n",
      "4/4 [==============================] - 0s 64ms/step\n",
      "4/4 [==============================] - 0s 65ms/step\n",
      "4/4 [==============================] - 0s 66ms/step\n",
      "4/4 [==============================] - 0s 64ms/step\n",
      "4/4 [==============================] - 0s 62ms/step\n",
      "4/4 [==============================] - 0s 65ms/step\n",
      "4/4 [==============================] - 0s 69ms/step\n",
      "4/4 [==============================] - 0s 66ms/step\n",
      "4/4 [==============================] - 0s 65ms/step\n",
      "4/4 [==============================] - 0s 65ms/step\n",
      "4/4 [==============================] - 0s 64ms/step\n",
      "4/4 [==============================] - 0s 65ms/step\n",
      "4/4 [==============================] - 0s 66ms/step\n",
      "4/4 [==============================] - 0s 64ms/step\n",
      "4/4 [==============================] - 0s 64ms/step\n",
      "4/4 [==============================] - 0s 64ms/step\n",
      "4/4 [==============================] - 0s 64ms/step\n",
      "4/4 [==============================] - 0s 66ms/step\n",
      "4/4 [==============================] - 0s 65ms/step\n",
      "4/4 [==============================] - 0s 65ms/step\n",
      "4/4 [==============================] - 0s 63ms/step\n",
      "4/4 [==============================] - 0s 65ms/step\n",
      "4/4 [==============================] - 0s 63ms/step\n",
      "4/4 [==============================] - 0s 64ms/step\n",
      "4/4 [==============================] - 0s 65ms/step\n",
      "4/4 [==============================] - 0s 66ms/step\n",
      "4/4 [==============================] - 0s 66ms/step\n",
      "4/4 [==============================] - 0s 61ms/step\n",
      "4/4 [==============================] - 0s 64ms/step\n",
      "4/4 [==============================] - 0s 65ms/step\n",
      "4/4 [==============================] - 0s 65ms/step\n",
      "4/4 [==============================] - 0s 61ms/step\n",
      "4/4 [==============================] - 0s 64ms/step\n",
      "4/4 [==============================] - 0s 64ms/step\n",
      "4/4 [==============================] - 0s 64ms/step\n",
      "4/4 [==============================] - 0s 63ms/step\n",
      "4/4 [==============================] - 0s 64ms/step\n",
      "4/4 [==============================] - 0s 66ms/step\n",
      "4/4 [==============================] - 0s 64ms/step\n",
      "4/4 [==============================] - 0s 64ms/step\n",
      "4/4 [==============================] - 0s 66ms/step\n",
      "4/4 [==============================] - 0s 66ms/step\n",
      "4/4 [==============================] - 0s 64ms/step\n",
      "4/4 [==============================] - 0s 66ms/step\n",
      "4/4 [==============================] - 0s 66ms/step\n",
      "4/4 [==============================] - 0s 65ms/step\n",
      "4/4 [==============================] - 0s 65ms/step\n",
      "4/4 [==============================] - 0s 66ms/step\n",
      "4/4 [==============================] - 0s 66ms/step\n",
      "4/4 [==============================] - 0s 64ms/step\n",
      "4/4 [==============================] - 0s 63ms/step\n",
      "4/4 [==============================] - 0s 65ms/step\n",
      "4/4 [==============================] - 0s 65ms/step\n",
      "4/4 [==============================] - 0s 67ms/step\n",
      "4/4 [==============================] - 0s 66ms/step\n",
      "4/4 [==============================] - 0s 66ms/step\n",
      "4/4 [==============================] - 0s 63ms/step\n",
      "4/4 [==============================] - 0s 65ms/step\n",
      "4/4 [==============================] - 0s 66ms/step\n",
      "4/4 [==============================] - 0s 64ms/step\n",
      "4/4 [==============================] - 0s 63ms/step\n",
      "4/4 [==============================] - 0s 63ms/step\n",
      "4/4 [==============================] - 0s 66ms/step\n",
      "4/4 [==============================] - 0s 64ms/step\n",
      "4/4 [==============================] - 0s 64ms/step\n",
      "4/4 [==============================] - 0s 66ms/step\n",
      "4/4 [==============================] - 0s 65ms/step\n",
      "4/4 [==============================] - 0s 66ms/step\n",
      "4/4 [==============================] - 0s 65ms/step\n",
      "4/4 [==============================] - 0s 63ms/step\n",
      "4/4 [==============================] - 0s 67ms/step\n",
      "4/4 [==============================] - 0s 65ms/step\n",
      "4/4 [==============================] - 0s 63ms/step\n",
      "4/4 [==============================] - 0s 65ms/step\n",
      "4/4 [==============================] - 0s 63ms/step\n",
      "4/4 [==============================] - 0s 66ms/step\n",
      "4/4 [==============================] - 0s 66ms/step\n",
      "4/4 [==============================] - 0s 67ms/step\n",
      "4/4 [==============================] - 0s 64ms/step\n",
      "4/4 [==============================] - 0s 66ms/step\n",
      "4/4 [==============================] - 0s 64ms/step\n",
      "4/4 [==============================] - 0s 66ms/step\n",
      "4/4 [==============================] - 0s 66ms/step\n",
      "4/4 [==============================] - 0s 65ms/step\n",
      "4/4 [==============================] - 0s 64ms/step\n",
      "4/4 [==============================] - 0s 66ms/step\n",
      "4/4 [==============================] - 0s 64ms/step\n",
      "4/4 [==============================] - 0s 66ms/step\n",
      "4/4 [==============================] - 0s 64ms/step\n",
      "4/4 [==============================] - 0s 65ms/step\n",
      "4/4 [==============================] - 0s 65ms/step\n",
      "4/4 [==============================] - 0s 67ms/step\n",
      "4/4 [==============================] - 0s 63ms/step\n",
      "4/4 [==============================] - 0s 65ms/step\n",
      "4/4 [==============================] - 0s 67ms/step\n",
      "4/4 [==============================] - 0s 64ms/step\n",
      "4/4 [==============================] - 0s 65ms/step\n",
      "4/4 [==============================] - 0s 64ms/step\n",
      "4/4 [==============================] - 0s 65ms/step\n",
      "4/4 [==============================] - 0s 64ms/step\n",
      "4/4 [==============================] - 0s 66ms/step\n",
      "4/4 [==============================] - 0s 67ms/step\n",
      "4/4 [==============================] - 0s 63ms/step\n",
      "4/4 [==============================] - 0s 65ms/step\n",
      "4/4 [==============================] - 0s 66ms/step\n",
      "4/4 [==============================] - 0s 65ms/step\n",
      "4/4 [==============================] - 0s 65ms/step\n",
      "4/4 [==============================] - 0s 65ms/step\n",
      "4/4 [==============================] - 0s 64ms/step\n",
      "4/4 [==============================] - 0s 64ms/step\n",
      "4/4 [==============================] - 0s 65ms/step\n",
      "4/4 [==============================] - 0s 65ms/step\n",
      "4/4 [==============================] - 0s 66ms/step\n",
      "4/4 [==============================] - 0s 65ms/step\n",
      "4/4 [==============================] - 0s 68ms/step\n",
      "4/4 [==============================] - 0s 65ms/step\n",
      "4/4 [==============================] - 0s 65ms/step\n",
      "4/4 [==============================] - 0s 65ms/step\n",
      "4/4 [==============================] - 0s 64ms/step\n",
      "4/4 [==============================] - 0s 64ms/step\n",
      "4/4 [==============================] - 0s 68ms/step\n",
      "4/4 [==============================] - 0s 65ms/step\n",
      "4/4 [==============================] - 0s 65ms/step\n",
      "4/4 [==============================] - 0s 64ms/step\n",
      "4/4 [==============================] - 0s 67ms/step\n",
      "4/4 [==============================] - 0s 65ms/step\n",
      "4/4 [==============================] - 0s 66ms/step\n",
      "4/4 [==============================] - 0s 65ms/step\n",
      "4/4 [==============================] - 0s 67ms/step\n",
      "4/4 [==============================] - 0s 65ms/step\n",
      "4/4 [==============================] - 0s 66ms/step\n",
      "4/4 [==============================] - 0s 65ms/step\n",
      "4/4 [==============================] - 0s 64ms/step\n",
      "4/4 [==============================] - 0s 61ms/step\n",
      "4/4 [==============================] - 0s 65ms/step\n",
      "4/4 [==============================] - 0s 66ms/step\n",
      "4/4 [==============================] - 0s 65ms/step\n",
      "4/4 [==============================] - 0s 65ms/step\n",
      "4/4 [==============================] - 0s 64ms/step\n",
      "4/4 [==============================] - 0s 66ms/step\n",
      "4/4 [==============================] - 0s 61ms/step\n",
      "4/4 [==============================] - 0s 67ms/step\n",
      "4/4 [==============================] - 0s 64ms/step\n",
      "4/4 [==============================] - 0s 64ms/step\n",
      "4/4 [==============================] - 0s 64ms/step\n",
      "4/4 [==============================] - 0s 64ms/step\n",
      "4/4 [==============================] - 0s 63ms/step\n",
      "4/4 [==============================] - 0s 65ms/step\n",
      "4/4 [==============================] - 0s 64ms/step\n",
      "4/4 [==============================] - 0s 67ms/step\n",
      "4/4 [==============================] - 0s 65ms/step\n",
      "4/4 [==============================] - 0s 63ms/step\n",
      "4/4 [==============================] - 0s 65ms/step\n",
      "4/4 [==============================] - 0s 67ms/step\n",
      "4/4 [==============================] - 0s 66ms/step\n",
      "4/4 [==============================] - 0s 65ms/step\n",
      "4/4 [==============================] - 0s 66ms/step\n",
      "4/4 [==============================] - 0s 63ms/step\n",
      "4/4 [==============================] - 0s 66ms/step\n",
      "4/4 [==============================] - 0s 67ms/step\n",
      "4/4 [==============================] - 0s 67ms/step\n",
      "4/4 [==============================] - 0s 66ms/step\n",
      "4/4 [==============================] - 0s 66ms/step\n",
      "4/4 [==============================] - 0s 65ms/step\n",
      "4/4 [==============================] - 0s 66ms/step\n",
      "4/4 [==============================] - 0s 64ms/step\n",
      "4/4 [==============================] - 0s 65ms/step\n",
      "4/4 [==============================] - 0s 66ms/step\n",
      "4/4 [==============================] - 0s 64ms/step\n",
      "4/4 [==============================] - 0s 65ms/step\n",
      "4/4 [==============================] - 0s 64ms/step\n",
      "4/4 [==============================] - 0s 65ms/step\n",
      "4/4 [==============================] - 0s 67ms/step\n",
      "4/4 [==============================] - 0s 66ms/step\n",
      "4/4 [==============================] - 0s 65ms/step\n",
      "4/4 [==============================] - 0s 64ms/step\n",
      "4/4 [==============================] - 0s 66ms/step\n",
      "4/4 [==============================] - 0s 65ms/step\n",
      "4/4 [==============================] - 0s 65ms/step\n",
      "4/4 [==============================] - 0s 63ms/step\n",
      "4/4 [==============================] - 0s 64ms/step\n",
      "4/4 [==============================] - 0s 67ms/step\n",
      "4/4 [==============================] - 0s 66ms/step\n",
      "4/4 [==============================] - 0s 63ms/step\n",
      "4/4 [==============================] - 0s 64ms/step\n",
      "4/4 [==============================] - 0s 64ms/step\n",
      "4/4 [==============================] - 0s 65ms/step\n",
      "4/4 [==============================] - 0s 64ms/step\n",
      "4/4 [==============================] - 0s 64ms/step\n",
      "4/4 [==============================] - 0s 65ms/step\n",
      "4/4 [==============================] - 0s 67ms/step\n",
      "4/4 [==============================] - 0s 64ms/step\n",
      "4/4 [==============================] - 0s 65ms/step\n",
      "4/4 [==============================] - 0s 65ms/step\n",
      "4/4 [==============================] - 0s 65ms/step\n",
      "4/4 [==============================] - 0s 66ms/step\n",
      "4/4 [==============================] - 0s 65ms/step\n",
      "4/4 [==============================] - 0s 66ms/step\n"
     ]
    },
    {
     "name": "stdout",
     "output_type": "stream",
     "text": [
      "4/4 [==============================] - 0s 62ms/step\n",
      "4/4 [==============================] - 0s 64ms/step\n",
      "4/4 [==============================] - 0s 67ms/step\n",
      "4/4 [==============================] - 0s 66ms/step\n",
      "4/4 [==============================] - 0s 63ms/step\n",
      "4/4 [==============================] - 0s 65ms/step\n",
      "4/4 [==============================] - 0s 65ms/step\n",
      "4/4 [==============================] - 0s 65ms/step\n",
      "4/4 [==============================] - 0s 64ms/step\n",
      "4/4 [==============================] - 0s 66ms/step\n",
      "4/4 [==============================] - 0s 65ms/step\n",
      "4/4 [==============================] - 0s 65ms/step\n",
      "4/4 [==============================] - 0s 64ms/step\n",
      "4/4 [==============================] - 0s 66ms/step\n",
      "4/4 [==============================] - 0s 67ms/step\n",
      "4/4 [==============================] - 0s 65ms/step\n",
      "4/4 [==============================] - 0s 66ms/step\n",
      "4/4 [==============================] - 0s 65ms/step\n",
      "4/4 [==============================] - 0s 66ms/step\n",
      "4/4 [==============================] - 0s 65ms/step\n",
      "4/4 [==============================] - 0s 66ms/step\n",
      "4/4 [==============================] - 0s 62ms/step\n",
      "4/4 [==============================] - 0s 65ms/step\n",
      "4/4 [==============================] - 0s 65ms/step\n",
      "4/4 [==============================] - 0s 67ms/step\n",
      "4/4 [==============================] - 0s 69ms/step\n",
      "4/4 [==============================] - 0s 65ms/step\n",
      "4/4 [==============================] - 0s 67ms/step\n",
      "4/4 [==============================] - 0s 65ms/step\n",
      "4/4 [==============================] - 0s 63ms/step\n",
      "4/4 [==============================] - 0s 65ms/step\n",
      "4/4 [==============================] - 0s 64ms/step\n",
      "4/4 [==============================] - 0s 64ms/step\n",
      "4/4 [==============================] - 0s 65ms/step\n",
      "4/4 [==============================] - 0s 66ms/step\n",
      "4/4 [==============================] - 0s 64ms/step\n",
      "4/4 [==============================] - 0s 66ms/step\n",
      "4/4 [==============================] - 0s 64ms/step\n",
      "4/4 [==============================] - 0s 64ms/step\n",
      "4/4 [==============================] - 0s 67ms/step\n",
      "4/4 [==============================] - 0s 65ms/step\n",
      "4/4 [==============================] - 0s 64ms/step\n",
      "4/4 [==============================] - 0s 65ms/step\n",
      "4/4 [==============================] - 0s 63ms/step\n",
      "4/4 [==============================] - 0s 67ms/step\n",
      "4/4 [==============================] - 0s 64ms/step\n",
      "4/4 [==============================] - 0s 66ms/step\n",
      "4/4 [==============================] - 0s 65ms/step\n",
      "4/4 [==============================] - 0s 63ms/step\n",
      "4/4 [==============================] - 0s 67ms/step\n",
      "4/4 [==============================] - 0s 67ms/step\n",
      "4/4 [==============================] - 0s 65ms/step\n",
      "4/4 [==============================] - 0s 64ms/step\n",
      "4/4 [==============================] - 0s 63ms/step\n",
      "4/4 [==============================] - 0s 64ms/step\n",
      "4/4 [==============================] - 0s 65ms/step\n",
      "4/4 [==============================] - 0s 63ms/step\n",
      "4/4 [==============================] - 0s 68ms/step\n",
      "4/4 [==============================] - 0s 65ms/step\n",
      "4/4 [==============================] - 0s 66ms/step\n",
      "4/4 [==============================] - 0s 64ms/step\n",
      "4/4 [==============================] - 0s 64ms/step\n",
      "4/4 [==============================] - 0s 66ms/step\n",
      "4/4 [==============================] - 0s 66ms/step\n",
      "4/4 [==============================] - 0s 61ms/step\n",
      "4/4 [==============================] - 0s 66ms/step\n",
      "4/4 [==============================] - 0s 66ms/step\n",
      "4/4 [==============================] - 0s 64ms/step\n",
      "4/4 [==============================] - 0s 66ms/step\n",
      "4/4 [==============================] - 0s 64ms/step\n",
      "4/4 [==============================] - 0s 65ms/step\n",
      "4/4 [==============================] - 0s 64ms/step\n",
      "4/4 [==============================] - 0s 65ms/step\n",
      "4/4 [==============================] - 0s 64ms/step\n",
      "4/4 [==============================] - 0s 63ms/step\n",
      "4/4 [==============================] - 0s 63ms/step\n",
      "3/3 [==============================] - 2s 1s/step\n"
     ]
    }
   ],
   "source": [
    " # We get the train features from vgg16 model by giving our training data as input\n",
    "train_features, train_labels =  extract_features(train_dataset)"
   ]
  },
  {
   "cell_type": "code",
   "execution_count": 17,
   "id": "279f5627",
   "metadata": {},
   "outputs": [
    {
     "data": {
      "text/plain": [
       "(50000, 7, 7, 512)"
      ]
     },
     "execution_count": 17,
     "metadata": {},
     "output_type": "execute_result"
    }
   ],
   "source": [
    "train_features.shape"
   ]
  },
  {
   "cell_type": "code",
   "execution_count": 18,
   "id": "b034e4c4",
   "metadata": {},
   "outputs": [
    {
     "data": {
      "text/plain": [
       "numpy.ndarray"
      ]
     },
     "execution_count": 18,
     "metadata": {},
     "output_type": "execute_result"
    }
   ],
   "source": [
    "type(train_features)"
   ]
  },
  {
   "cell_type": "code",
   "execution_count": 19,
   "id": "c640affe",
   "metadata": {},
   "outputs": [
    {
     "name": "stdout",
     "output_type": "stream",
     "text": [
      "4/4 [==============================] - 1s 169ms/step\n",
      "4/4 [==============================] - 0s 63ms/step\n",
      "4/4 [==============================] - 0s 63ms/step\n",
      "4/4 [==============================] - 0s 64ms/step\n",
      "4/4 [==============================] - 0s 64ms/step\n",
      "4/4 [==============================] - 0s 65ms/step\n",
      "4/4 [==============================] - 0s 63ms/step\n",
      "4/4 [==============================] - 0s 66ms/step\n",
      "4/4 [==============================] - 0s 63ms/step\n",
      "4/4 [==============================] - 0s 65ms/step\n",
      "4/4 [==============================] - 0s 65ms/step\n",
      "4/4 [==============================] - 0s 65ms/step\n",
      "4/4 [==============================] - 0s 64ms/step\n",
      "4/4 [==============================] - 0s 64ms/step\n",
      "4/4 [==============================] - 0s 63ms/step\n",
      "4/4 [==============================] - 0s 66ms/step\n",
      "4/4 [==============================] - 0s 64ms/step\n",
      "4/4 [==============================] - 0s 64ms/step\n",
      "4/4 [==============================] - 0s 66ms/step\n",
      "4/4 [==============================] - 0s 64ms/step\n",
      "4/4 [==============================] - 0s 64ms/step\n",
      "4/4 [==============================] - 0s 66ms/step\n",
      "4/4 [==============================] - 0s 63ms/step\n",
      "4/4 [==============================] - 0s 64ms/step\n",
      "4/4 [==============================] - 0s 65ms/step\n",
      "4/4 [==============================] - 0s 65ms/step\n",
      "4/4 [==============================] - 0s 63ms/step\n",
      "4/4 [==============================] - 0s 63ms/step\n",
      "4/4 [==============================] - 0s 66ms/step\n",
      "4/4 [==============================] - 0s 65ms/step\n",
      "4/4 [==============================] - 0s 63ms/step\n",
      "4/4 [==============================] - 0s 64ms/step\n",
      "4/4 [==============================] - 0s 63ms/step\n",
      "4/4 [==============================] - 0s 63ms/step\n",
      "4/4 [==============================] - 0s 64ms/step\n",
      "4/4 [==============================] - 0s 64ms/step\n",
      "4/4 [==============================] - 0s 66ms/step\n",
      "4/4 [==============================] - 0s 66ms/step\n",
      "4/4 [==============================] - 0s 68ms/step\n",
      "4/4 [==============================] - 0s 64ms/step\n",
      "4/4 [==============================] - 0s 65ms/step\n",
      "4/4 [==============================] - 0s 63ms/step\n",
      "4/4 [==============================] - 0s 64ms/step\n",
      "4/4 [==============================] - 0s 65ms/step\n",
      "4/4 [==============================] - 0s 65ms/step\n",
      "4/4 [==============================] - 0s 65ms/step\n",
      "4/4 [==============================] - 0s 65ms/step\n",
      "4/4 [==============================] - 0s 63ms/step\n",
      "4/4 [==============================] - 0s 64ms/step\n",
      "4/4 [==============================] - 0s 66ms/step\n",
      "4/4 [==============================] - 0s 64ms/step\n",
      "4/4 [==============================] - 0s 62ms/step\n",
      "4/4 [==============================] - 0s 65ms/step\n",
      "4/4 [==============================] - 0s 65ms/step\n",
      "4/4 [==============================] - 0s 64ms/step\n",
      "4/4 [==============================] - 0s 64ms/step\n",
      "4/4 [==============================] - 0s 64ms/step\n",
      "4/4 [==============================] - 0s 64ms/step\n",
      "4/4 [==============================] - 0s 66ms/step\n",
      "4/4 [==============================] - 0s 66ms/step\n",
      "4/4 [==============================] - 0s 64ms/step\n",
      "4/4 [==============================] - 0s 66ms/step\n",
      "4/4 [==============================] - 0s 64ms/step\n",
      "4/4 [==============================] - 0s 64ms/step\n",
      "4/4 [==============================] - 0s 63ms/step\n",
      "4/4 [==============================] - 0s 64ms/step\n",
      "4/4 [==============================] - 0s 65ms/step\n",
      "4/4 [==============================] - 0s 66ms/step\n",
      "4/4 [==============================] - 0s 64ms/step\n",
      "4/4 [==============================] - 0s 63ms/step\n",
      "4/4 [==============================] - 0s 68ms/step\n",
      "4/4 [==============================] - 0s 62ms/step\n",
      "4/4 [==============================] - 0s 65ms/step\n",
      "4/4 [==============================] - 0s 66ms/step\n",
      "4/4 [==============================] - 0s 64ms/step\n",
      "4/4 [==============================] - 0s 63ms/step\n",
      "4/4 [==============================] - 0s 64ms/step\n",
      "4/4 [==============================] - 0s 66ms/step\n",
      "1/1 [==============================] - 0s 35ms/step\n"
     ]
    },
    {
     "data": {
      "text/plain": [
       "(10000, 7, 7, 512)"
      ]
     },
     "execution_count": 19,
     "metadata": {},
     "output_type": "execute_result"
    }
   ],
   "source": [
    " # Lets get the test features from vgg16 model by giving our testdata as input\n",
    "test_features, test_labels =  extract_features(test_dataset)\n",
    "test_features.shape"
   ]
  },
  {
   "cell_type": "markdown",
   "id": "e5d6f4f6",
   "metadata": {},
   "source": [
    "### Define our new model architecture"
   ]
  },
  {
   "cell_type": "code",
   "execution_count": 20,
   "id": "2f56fa05",
   "metadata": {},
   "outputs": [],
   "source": [
    "tf.keras.backend.clear_session()"
   ]
  },
  {
   "cell_type": "code",
   "execution_count": 21,
   "id": "a2f3917b",
   "metadata": {},
   "outputs": [],
   "source": [
    "# Set random seeds for reproducibility\n",
    "random.seed(42)\n",
    "np.random.seed(42)\n",
    "tf.random.set_seed(42)"
   ]
  },
  {
   "cell_type": "code",
   "execution_count": 22,
   "id": "b87cb1ca",
   "metadata": {},
   "outputs": [],
   "source": [
    "def cifar_vgg16_features(): \n",
    "    \n",
    "    # Define Input shape which is the shape of the output from vgg16 conv base model, \n",
    "    #..which is again the shape of train_features\n",
    "    inputs = keras.Input(shape = (7,7,512)) \n",
    "    \n",
    "    # Flatten layer\n",
    "    x = layers.Flatten()(inputs) \n",
    "    \n",
    "    # We will add just one Dense layer with 256 units\n",
    "    x = layers.Dense(256, activation=\"relu\")(x) \n",
    "    x = layers.Dropout(0.4)(x) # Dropout layer\n",
    "    \n",
    "    # Final dense output layer with 10 units\n",
    "    outputs = layers.Dense(10, activation=\"softmax\")(x) \n",
    "    \n",
    "    model = keras.Model(inputs=inputs, outputs=outputs)\n",
    "    return model"
   ]
  },
  {
   "cell_type": "markdown",
   "id": "ceab7cbb",
   "metadata": {},
   "source": [
    "### Compile & Train"
   ]
  },
  {
   "cell_type": "code",
   "execution_count": 23,
   "id": "a216c052",
   "metadata": {},
   "outputs": [
    {
     "name": "stdout",
     "output_type": "stream",
     "text": [
      "Model: \"model\"\n",
      "_________________________________________________________________\n",
      " Layer (type)                Output Shape              Param #   \n",
      "=================================================================\n",
      " input_1 (InputLayer)        [(None, 7, 7, 512)]       0         \n",
      "                                                                 \n",
      " flatten (Flatten)           (None, 25088)             0         \n",
      "                                                                 \n",
      " dense (Dense)               (None, 256)               6422784   \n",
      "                                                                 \n",
      " dropout (Dropout)           (None, 256)               0         \n",
      "                                                                 \n",
      " dense_1 (Dense)             (None, 10)                2570      \n",
      "                                                                 \n",
      "=================================================================\n",
      "Total params: 6,425,354\n",
      "Trainable params: 6,425,354\n",
      "Non-trainable params: 0\n",
      "_________________________________________________________________\n"
     ]
    }
   ],
   "source": [
    "model = cifar_vgg16_features() # Instantiate the model\n",
    "model.summary()"
   ]
  },
  {
   "cell_type": "code",
   "execution_count": 24,
   "id": "d2932506",
   "metadata": {},
   "outputs": [],
   "source": [
    "# VGG16 had 14 million parameters to train. \n",
    "\n",
    "# Our custom model which will use the features extracted from the convbase pf vgg16 \n",
    "# ..has only 6 million parameters"
   ]
  },
  {
   "cell_type": "code",
   "execution_count": 25,
   "id": "e60349e5",
   "metadata": {},
   "outputs": [
    {
     "name": "stderr",
     "output_type": "stream",
     "text": [
      "C:\\Users\\sridh\\anaconda3\\envs\\tf2.10_env\\lib\\site-packages\\keras\\optimizers\\optimizer_v2\\gradient_descent.py:111: UserWarning: The `lr` argument is deprecated, use `learning_rate` instead.\n",
      "  super().__init__(name, **kwargs)\n"
     ]
    }
   ],
   "source": [
    "# Compile the Model by configuring the  optimizer, loss function & metrics \n",
    "\n",
    "sgd = tf.keras.optimizers.SGD(lr=0.001, momentum=0.9) # sgd optimizer\n",
    "\n",
    "model.compile(optimizer=sgd,loss='sparse_categorical_crossentropy',  metrics = [\"accuracy\"]) "
   ]
  },
  {
   "cell_type": "code",
   "execution_count": 26,
   "id": "7cb10398",
   "metadata": {
    "scrolled": true
   },
   "outputs": [],
   "source": [
    "## CallBacks\n",
    "\n",
    "# call back for reducing learning rate as the training proceeds\n",
    "def lr_scheduler(epoch):\n",
    "    return 0.001 * (0.5 ** (epoch // 20))\n",
    "schedule_lr = keras.callbacks.LearningRateScheduler(lr_scheduler) \n",
    "\n",
    "# call back to Save only best model\n",
    "# model_checkpoint = keras.callbacks.ModelCheckpoint(\n",
    "#                    filepath = \"./models/model_cifar_vgg16features.keras\",\n",
    "#                    save_best_only=True, monitor=\"val_loss\") \n",
    "\n",
    "# call back to stop the training early if val accuracy doesnt improve\n",
    "early_stop = keras.callbacks.EarlyStopping(monitor=\"val_accuracy\", \n",
    "                                           patience=3, \n",
    "                                           restore_best_weights=True)\n",
    "\n",
    "callbacks = [schedule_lr, early_stop] "
   ]
  },
  {
   "cell_type": "code",
   "execution_count": 27,
   "id": "fe428e03",
   "metadata": {},
   "outputs": [
    {
     "name": "stdout",
     "output_type": "stream",
     "text": [
      "Epoch 1/30\n",
      "1250/1250 [==============================] - 10s 7ms/step - loss: 1.0946 - accuracy: 0.6738 - val_loss: 0.5404 - val_accuracy: 0.8281 - lr: 0.0010\n",
      "Epoch 2/30\n",
      "1250/1250 [==============================] - 8s 6ms/step - loss: 0.6552 - accuracy: 0.7906 - val_loss: 0.5222 - val_accuracy: 0.8359 - lr: 0.0010\n",
      "Epoch 3/30\n",
      "1250/1250 [==============================] - 8s 7ms/step - loss: 0.5129 - accuracy: 0.8354 - val_loss: 0.4438 - val_accuracy: 0.8632 - lr: 0.0010\n",
      "Epoch 4/30\n",
      "1250/1250 [==============================] - 8s 6ms/step - loss: 0.4177 - accuracy: 0.8633 - val_loss: 0.5034 - val_accuracy: 0.8604 - lr: 0.0010\n",
      "Epoch 5/30\n",
      "1250/1250 [==============================] - 8s 6ms/step - loss: 0.3614 - accuracy: 0.8814 - val_loss: 0.5034 - val_accuracy: 0.8614 - lr: 0.0010\n",
      "Epoch 6/30\n",
      "1250/1250 [==============================] - 8s 6ms/step - loss: 0.3090 - accuracy: 0.8993 - val_loss: 0.4842 - val_accuracy: 0.8696 - lr: 0.0010\n",
      "Epoch 7/30\n",
      "1250/1250 [==============================] - 8s 7ms/step - loss: 0.2709 - accuracy: 0.9106 - val_loss: 0.5217 - val_accuracy: 0.8668 - lr: 0.0010\n",
      "Epoch 8/30\n",
      "1250/1250 [==============================] - 8s 7ms/step - loss: 0.2365 - accuracy: 0.9206 - val_loss: 0.5451 - val_accuracy: 0.8699 - lr: 0.0010\n",
      "Epoch 9/30\n",
      "1250/1250 [==============================] - 8s 6ms/step - loss: 0.2267 - accuracy: 0.9257 - val_loss: 0.5197 - val_accuracy: 0.8771 - lr: 0.0010\n",
      "Epoch 10/30\n",
      "1250/1250 [==============================] - 8s 6ms/step - loss: 0.1958 - accuracy: 0.9328 - val_loss: 0.5324 - val_accuracy: 0.8771 - lr: 0.0010\n",
      "Epoch 11/30\n",
      "1250/1250 [==============================] - 8s 6ms/step - loss: 0.1891 - accuracy: 0.9363 - val_loss: 0.5552 - val_accuracy: 0.8724 - lr: 0.0010\n",
      "Epoch 12/30\n",
      "1250/1250 [==============================] - 8s 6ms/step - loss: 0.1733 - accuracy: 0.9426 - val_loss: 0.5893 - val_accuracy: 0.8725 - lr: 0.0010\n"
     ]
    }
   ],
   "source": [
    "# Train the model\n",
    "history = model.fit(train_features, train_labels, epochs = 30, batch_size = 32, \n",
    "                    validation_split=0.2,callbacks=callbacks) # train the model"
   ]
  },
  {
   "cell_type": "code",
   "execution_count": 28,
   "id": "cc00ff32",
   "metadata": {},
   "outputs": [
    {
     "data": {
      "image/png": "[encoded data removed]",
      "text/plain": [
       "<Figure size 640x480 with 1 Axes>"
      ]
     },
     "metadata": {},
     "output_type": "display_data"
    },
    {
     "data": {
      "image/png": "[encoded data removed]",
      "text/plain": [
       "<Figure size 640x480 with 1 Axes>"
      ]
     },
     "metadata": {},
     "output_type": "display_data"
    }
   ],
   "source": [
    "plot_history(history)"
   ]
  },
  {
   "cell_type": "code",
   "execution_count": 29,
   "id": "9b04201b",
   "metadata": {},
   "outputs": [],
   "source": [
    "# Looks like the model overfitted again after 5th epoch. But validation accuracy is high compared to before\n",
    "#...where we trained our cifar model from scratch"
   ]
  },
  {
   "cell_type": "markdown",
   "id": "ec4007c9",
   "metadata": {},
   "source": [
    "### Evaluate the model"
   ]
  },
  {
   "cell_type": "code",
   "execution_count": 30,
   "id": "01aab7f9",
   "metadata": {},
   "outputs": [
    {
     "name": "stdout",
     "output_type": "stream",
     "text": [
      "313/313 [==============================] - 2s 6ms/step - loss: 0.5720 - accuracy: 0.8722\n"
     ]
    },
    {
     "data": {
      "text/plain": [
       "[0.5719863772392273, 0.8722000122070312]"
      ]
     },
     "execution_count": 30,
     "metadata": {},
     "output_type": "execute_result"
    }
   ],
   "source": [
    "model.evaluate(test_features, test_labels, batch_size=32) "
   ]
  },
  {
   "cell_type": "code",
   "execution_count": null,
   "id": "6bac3a2f",
   "metadata": {},
   "outputs": [],
   "source": [
    "# Big improvement over training a model on cifar data from scratch: accuracy = 0.7"
   ]
  },
  {
   "cell_type": "markdown",
   "id": "12189cf6",
   "metadata": {},
   "source": [
    "### Congratualtions we were able to enhance the model performance significantly by\n",
    "1. Extracting features from another larger pretrained model\n",
    "2. Using this extracted features and defining a new architecture with just one dense layer with 256 units"
   ]
  },
  {
   "cell_type": "code",
   "execution_count": null,
   "id": "41cf70b5",
   "metadata": {},
   "outputs": [],
   "source": []
  }
 ],
 "metadata": {
  "kernelspec": {
   "display_name": "Python 3 (ipykernel)",
   "language": "python",
   "name": "python3"
  },
  "language_info": {
   "codemirror_mode": {
    "name": "ipython",
    "version": 3
   },
   "file_extension": ".py",
   "mimetype": "text/x-python",
   "name": "python",
   "nbconvert_exporter": "python",
   "pygments_lexer": "ipython3",
   "version": "3.8.20"
  }
 },
 "nbformat": 4,
 "nbformat_minor": 5
}

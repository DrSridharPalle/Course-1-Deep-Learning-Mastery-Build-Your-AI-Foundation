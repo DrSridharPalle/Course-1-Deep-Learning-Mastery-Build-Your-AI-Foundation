{
 "cells": [
  {
   "cell_type": "markdown",
   "id": "29d3b3fe",
   "metadata": {},
   "source": [
    "<img style=\"float: left;\" src=\"./images/PalleAI-Banner1.png\" width=\"800\">"
   ]
  },
  {
   "cell_type": "markdown",
   "id": "fccee792",
   "metadata": {},
   "source": [
    "# Build an Image Classifier Model CIFAR Dataset"
   ]
  },
  {
   "cell_type": "markdown",
   "id": "0b854d05",
   "metadata": {},
   "source": [
    "### Xception Architecture: Deep Learning with Depthwise Separable Convolutions (Francois Chollet 2017)"
   ]
  },
  {
   "cell_type": "markdown",
   "id": "7a2ecc2f",
   "metadata": {},
   "source": [
    "### Mini-Xception Like Architecture with\n",
    "* **Residual Connections**\n",
    "\n",
    "* **Batch Normalization Layers**\n",
    "\n",
    "* **Separable Conv2D Layers**"
   ]
  },
  {
   "cell_type": "markdown",
   "id": "aa336972",
   "metadata": {},
   "source": [
    "<img style=\"float: left;\" src=\"./images/cifar3.png\" width=\"1000\">"
   ]
  },
  {
   "cell_type": "code",
   "execution_count": 1,
   "id": "dcf862f3",
   "metadata": {},
   "outputs": [],
   "source": [
    "labels_dict = {0:\"Airplane\", 1:\"Automobile\", 2:\"Bird\", 3:\"Cat\", 4:\"Deer\", 5:\"Dog\",\n",
    "               6: \"Frog\", 7:\"Horse\", 8:\"Ship\", 9:\"Truck\"}"
   ]
  },
  {
   "cell_type": "markdown",
   "id": "162adc49",
   "metadata": {},
   "source": [
    "### Import needed libraries "
   ]
  },
  {
   "cell_type": "code",
   "execution_count": 2,
   "id": "6a9babbb",
   "metadata": {},
   "outputs": [],
   "source": [
    "#Basic Python packages for data wrangling\n",
    "import numpy as np\n",
    "import pandas as pd\n",
    "import matplotlib.pyplot as plt\n",
    "import random\n",
    "\n",
    "#Tensorflow & Keras related packages\n",
    "import tensorflow as tf\n",
    "from tensorflow import keras\n",
    "from keras import layers\n",
    "\n",
    "from utils import plot_history"
   ]
  },
  {
   "cell_type": "markdown",
   "id": "f50a78ca",
   "metadata": {},
   "source": [
    "### Load Cifar Dataset Preloaded in Keras"
   ]
  },
  {
   "cell_type": "code",
   "execution_count": 3,
   "id": "24f0320c",
   "metadata": {},
   "outputs": [],
   "source": [
    "from tensorflow.keras.datasets import cifar10"
   ]
  },
  {
   "cell_type": "code",
   "execution_count": 4,
   "id": "14d20b97",
   "metadata": {},
   "outputs": [],
   "source": [
    "(train_images, train_labels), (test_images, test_labels) = cifar10.load_data()"
   ]
  },
  {
   "cell_type": "code",
   "execution_count": 5,
   "id": "c00b88e8",
   "metadata": {},
   "outputs": [
    {
     "data": {
      "text/plain": [
       "numpy.ndarray"
      ]
     },
     "execution_count": 5,
     "metadata": {},
     "output_type": "execute_result"
    }
   ],
   "source": [
    "type(train_images)"
   ]
  },
  {
   "cell_type": "code",
   "execution_count": 6,
   "id": "25b3c926",
   "metadata": {},
   "outputs": [
    {
     "name": "stdout",
     "output_type": "stream",
     "text": [
      "(50000, 32, 32, 3)\n",
      "(50000, 1)\n"
     ]
    }
   ],
   "source": [
    "print (train_images.shape) \n",
    "print (train_labels.shape)"
   ]
  },
  {
   "cell_type": "code",
   "execution_count": 7,
   "id": "8cd74bac",
   "metadata": {},
   "outputs": [
    {
     "name": "stdout",
     "output_type": "stream",
     "text": [
      "(10000, 32, 32, 3)\n",
      "(10000, 1)\n"
     ]
    }
   ],
   "source": [
    "print (test_images.shape) \n",
    "print (test_labels.shape)"
   ]
  },
  {
   "cell_type": "markdown",
   "id": "806996ce",
   "metadata": {},
   "source": [
    "### Build the Neural Network Model Architecture"
   ]
  },
  {
   "cell_type": "code",
   "execution_count": 9,
   "id": "0f5ad758",
   "metadata": {},
   "outputs": [],
   "source": [
    "# Set random seeds for reproducibility\n",
    "random.seed(42)\n",
    "np.random.seed(42)\n",
    "tf.random.set_seed(42)"
   ]
  },
  {
   "cell_type": "code",
   "execution_count": 10,
   "id": "a62a363a",
   "metadata": {},
   "outputs": [],
   "source": [
    "def model_mini_xception(): \n",
    "    \n",
    "    # Define Input shape\n",
    "    inputs = keras.Input(shape = (32,32,3)) \n",
    "    \n",
    "    # Rescaling layer\n",
    "    x = layers.Rescaling(1./255)(inputs)\n",
    "    \n",
    "    # Convolution Layer \n",
    "    x = layers.Conv2D(filters=32, kernel_size = 3, activation=\"relu\")(x) \n",
    "    \n",
    "    for num_filters in [32,64,128]:\n",
    "        # we store the input x in residual so that we can add it back to output later\n",
    "        residual = x\n",
    "   \n",
    "        # block of layers \n",
    "        #---------------------------------\n",
    "        # Normalization layer\n",
    "        x = layers.BatchNormalization()(x)\n",
    "        # Depthwsie separable convolution layer\n",
    "        x = layers.SeparableConv2D(num_filters,3,padding=\"same\", activation=\"relu\")(x)\n",
    "        \n",
    "        # Normalization layer\n",
    "        x = layers.BatchNormalization()(x)\n",
    "        # Depthwsie separable convolution layer\n",
    "        x = layers.SeparableConv2D(num_filters,3,padding=\"same\", activation=\"relu\")(x)\n",
    "        \n",
    "        # Max Pool layer\n",
    "        x = layers.MaxPooling2D(pool_size=2,strides=2,padding=\"same\")(x)\n",
    "        #-----------------------------------------------------------------\n",
    "        \n",
    "        # Apply 1D convolution on the residual to make its output shape same as the end of block.\n",
    "        residual = layers.Conv2D(num_filters,1,strides=2,padding=\"same\")(residual)\n",
    "        \n",
    "        # Residual connection: add the residual to the output from maxpool layer\n",
    "        x = layers.add([residual,x])\n",
    "    \n",
    "    # Flatten\n",
    "    # x = layers.Flatten(x)\n",
    "    x = layers.GlobalAveragePooling2D()(x) \n",
    "    \n",
    "    # Dropout\n",
    "    x = layers.Dropout(0.4)(x)\n",
    "\n",
    "    # Dense output Layer\n",
    "    outputs = layers.Dense(10, activation=\"softmax\")(x) \n",
    "    \n",
    "    model = keras.Model(inputs=inputs, outputs=outputs)\n",
    "    return model"
   ]
  },
  {
   "cell_type": "code",
   "execution_count": 11,
   "id": "26a55858",
   "metadata": {},
   "outputs": [
    {
     "name": "stdout",
     "output_type": "stream",
     "text": [
      "Model: \"model\"\n",
      "__________________________________________________________________________________________________\n",
      " Layer (type)                   Output Shape         Param #     Connected to                     \n",
      "==================================================================================================\n",
      " input_1 (InputLayer)           [(None, 32, 32, 3)]  0           []                               \n",
      "                                                                                                  \n",
      " rescaling (Rescaling)          (None, 32, 32, 3)    0           ['input_1[0][0]']                \n",
      "                                                                                                  \n",
      " conv2d (Conv2D)                (None, 30, 30, 32)   896         ['rescaling[0][0]']              \n",
      "                                                                                                  \n",
      " batch_normalization (BatchNorm  (None, 30, 30, 32)  128         ['conv2d[0][0]']                 \n",
      " alization)                                                                                       \n",
      "                                                                                                  \n",
      " separable_conv2d (SeparableCon  (None, 30, 30, 32)  1344        ['batch_normalization[0][0]']    \n",
      " v2D)                                                                                             \n",
      "                                                                                                  \n",
      " batch_normalization_1 (BatchNo  (None, 30, 30, 32)  128         ['separable_conv2d[0][0]']       \n",
      " rmalization)                                                                                     \n",
      "                                                                                                  \n",
      " separable_conv2d_1 (SeparableC  (None, 30, 30, 32)  1344        ['batch_normalization_1[0][0]']  \n",
      " onv2D)                                                                                           \n",
      "                                                                                                  \n",
      " conv2d_1 (Conv2D)              (None, 15, 15, 32)   1056        ['conv2d[0][0]']                 \n",
      "                                                                                                  \n",
      " max_pooling2d (MaxPooling2D)   (None, 15, 15, 32)   0           ['separable_conv2d_1[0][0]']     \n",
      "                                                                                                  \n",
      " add (Add)                      (None, 15, 15, 32)   0           ['conv2d_1[0][0]',               \n",
      "                                                                  'max_pooling2d[0][0]']          \n",
      "                                                                                                  \n",
      " batch_normalization_2 (BatchNo  (None, 15, 15, 32)  128         ['add[0][0]']                    \n",
      " rmalization)                                                                                     \n",
      "                                                                                                  \n",
      " separable_conv2d_2 (SeparableC  (None, 15, 15, 64)  2400        ['batch_normalization_2[0][0]']  \n",
      " onv2D)                                                                                           \n",
      "                                                                                                  \n",
      " batch_normalization_3 (BatchNo  (None, 15, 15, 64)  256         ['separable_conv2d_2[0][0]']     \n",
      " rmalization)                                                                                     \n",
      "                                                                                                  \n",
      " separable_conv2d_3 (SeparableC  (None, 15, 15, 64)  4736        ['batch_normalization_3[0][0]']  \n",
      " onv2D)                                                                                           \n",
      "                                                                                                  \n",
      " conv2d_2 (Conv2D)              (None, 8, 8, 64)     2112        ['add[0][0]']                    \n",
      "                                                                                                  \n",
      " max_pooling2d_1 (MaxPooling2D)  (None, 8, 8, 64)    0           ['separable_conv2d_3[0][0]']     \n",
      "                                                                                                  \n",
      " add_1 (Add)                    (None, 8, 8, 64)     0           ['conv2d_2[0][0]',               \n",
      "                                                                  'max_pooling2d_1[0][0]']        \n",
      "                                                                                                  \n",
      " batch_normalization_4 (BatchNo  (None, 8, 8, 64)    256         ['add_1[0][0]']                  \n",
      " rmalization)                                                                                     \n",
      "                                                                                                  \n",
      " separable_conv2d_4 (SeparableC  (None, 8, 8, 128)   8896        ['batch_normalization_4[0][0]']  \n",
      " onv2D)                                                                                           \n",
      "                                                                                                  \n",
      " batch_normalization_5 (BatchNo  (None, 8, 8, 128)   512         ['separable_conv2d_4[0][0]']     \n",
      " rmalization)                                                                                     \n",
      "                                                                                                  \n",
      " separable_conv2d_5 (SeparableC  (None, 8, 8, 128)   17664       ['batch_normalization_5[0][0]']  \n",
      " onv2D)                                                                                           \n",
      "                                                                                                  \n",
      " conv2d_3 (Conv2D)              (None, 4, 4, 128)    8320        ['add_1[0][0]']                  \n",
      "                                                                                                  \n",
      " max_pooling2d_2 (MaxPooling2D)  (None, 4, 4, 128)   0           ['separable_conv2d_5[0][0]']     \n",
      "                                                                                                  \n",
      " add_2 (Add)                    (None, 4, 4, 128)    0           ['conv2d_3[0][0]',               \n",
      "                                                                  'max_pooling2d_2[0][0]']        \n",
      "                                                                                                  \n",
      " global_average_pooling2d (Glob  (None, 128)         0           ['add_2[0][0]']                  \n",
      " alAveragePooling2D)                                                                              \n",
      "                                                                                                  \n",
      " dropout (Dropout)              (None, 128)          0           ['global_average_pooling2d[0][0]'\n",
      "                                                                 ]                                \n",
      "                                                                                                  \n",
      " dense (Dense)                  (None, 10)           1290        ['dropout[0][0]']                \n",
      "                                                                                                  \n",
      "==================================================================================================\n",
      "Total params: 51,466\n",
      "Trainable params: 50,762\n",
      "Non-trainable params: 704\n",
      "__________________________________________________________________________________________________\n"
     ]
    }
   ],
   "source": [
    "model = model_mini_xception()\n",
    "model.summary()"
   ]
  },
  {
   "cell_type": "markdown",
   "id": "56df0fbd",
   "metadata": {},
   "source": [
    "### Compile & Train the Model"
   ]
  },
  {
   "cell_type": "code",
   "execution_count": 12,
   "id": "955747da",
   "metadata": {},
   "outputs": [
    {
     "name": "stderr",
     "output_type": "stream",
     "text": [
      "C:\\Users\\sridh\\anaconda3\\envs\\tf2.10_env\\lib\\site-packages\\keras\\optimizers\\optimizer_v2\\gradient_descent.py:111: UserWarning: The `lr` argument is deprecated, use `learning_rate` instead.\n",
      "  super().__init__(name, **kwargs)\n"
     ]
    }
   ],
   "source": [
    "#Compile the Model by configuring the loss function, optimizer type, & metrics to monitor the model performance\n",
    "\n",
    "sgd = tf.keras.optimizers.SGD(lr=0.01, momentum=0.9) # we will use sgd optimizer\n",
    "\n",
    "model.compile(optimizer=sgd, loss='sparse_categorical_crossentropy',  metrics = [\"accuracy\"])"
   ]
  },
  {
   "cell_type": "code",
   "execution_count": 13,
   "id": "41277653",
   "metadata": {},
   "outputs": [],
   "source": [
    "# Callbacks\n",
    "\n",
    "def lr_scheduler(epoch):\n",
    "    return 0.01 * (0.5 ** (epoch // 20))\n",
    "\n",
    "reduce_lr = keras.callbacks.LearningRateScheduler(lr_scheduler)\n",
    "\n",
    "model_checkpoint = keras.callbacks.ModelCheckpoint(filepath = \"./models/model_mini.keras\",save_best_only=True, monitor=\"val_loss\")\n",
    "\n",
    "callbacks = [model_checkpoint, reduce_lr]"
   ]
  },
  {
   "cell_type": "code",
   "execution_count": 15,
   "id": "8bec20ae",
   "metadata": {},
   "outputs": [
    {
     "name": "stdout",
     "output_type": "stream",
     "text": [
      "Epoch 1/100\n",
      "313/313 [==============================] - 13s 24ms/step - loss: 1.7558 - accuracy: 0.3359 - val_loss: 2.6188 - val_accuracy: 0.1444 - lr: 0.0100\n",
      "Epoch 2/100\n",
      "313/313 [==============================] - 6s 20ms/step - loss: 1.3902 - accuracy: 0.4902 - val_loss: 1.5613 - val_accuracy: 0.4726 - lr: 0.0100\n",
      "Epoch 3/100\n",
      "313/313 [==============================] - 6s 19ms/step - loss: 1.1989 - accuracy: 0.5676 - val_loss: 1.2208 - val_accuracy: 0.5807 - lr: 0.0100\n",
      "Epoch 4/100\n",
      "313/313 [==============================] - 6s 19ms/step - loss: 1.0790 - accuracy: 0.6111 - val_loss: 1.7543 - val_accuracy: 0.4162 - lr: 0.0100\n",
      "Epoch 5/100\n",
      "313/313 [==============================] - 6s 21ms/step - loss: 1.0144 - accuracy: 0.6378 - val_loss: 0.9987 - val_accuracy: 0.6381 - lr: 0.0100\n",
      "Epoch 6/100\n",
      "313/313 [==============================] - 6s 20ms/step - loss: 0.9558 - accuracy: 0.6618 - val_loss: 1.2915 - val_accuracy: 0.5541 - lr: 0.0100\n",
      "Epoch 7/100\n",
      "313/313 [==============================] - 6s 19ms/step - loss: 0.9171 - accuracy: 0.6746 - val_loss: 1.0281 - val_accuracy: 0.6310 - lr: 0.0100\n",
      "Epoch 8/100\n",
      "313/313 [==============================] - 6s 19ms/step - loss: 0.8783 - accuracy: 0.6877 - val_loss: 1.0010 - val_accuracy: 0.6553 - lr: 0.0100\n",
      "Epoch 9/100\n",
      "313/313 [==============================] - 6s 20ms/step - loss: 0.8442 - accuracy: 0.7020 - val_loss: 0.8814 - val_accuracy: 0.6831 - lr: 0.0100\n",
      "Epoch 10/100\n",
      "313/313 [==============================] - 6s 20ms/step - loss: 0.8138 - accuracy: 0.7120 - val_loss: 0.9379 - val_accuracy: 0.6768 - lr: 0.0100\n",
      "Epoch 11/100\n",
      "313/313 [==============================] - 6s 20ms/step - loss: 0.7835 - accuracy: 0.7232 - val_loss: 0.9144 - val_accuracy: 0.6756 - lr: 0.0100\n",
      "Epoch 12/100\n",
      "313/313 [==============================] - 6s 20ms/step - loss: 0.7566 - accuracy: 0.7343 - val_loss: 0.8664 - val_accuracy: 0.7018 - lr: 0.0100\n",
      "Epoch 13/100\n",
      "313/313 [==============================] - 6s 21ms/step - loss: 0.7360 - accuracy: 0.7400 - val_loss: 0.7678 - val_accuracy: 0.7295 - lr: 0.0100\n",
      "Epoch 14/100\n",
      "313/313 [==============================] - 6s 20ms/step - loss: 0.7116 - accuracy: 0.7517 - val_loss: 0.9977 - val_accuracy: 0.6712 - lr: 0.0100\n",
      "Epoch 15/100\n",
      "313/313 [==============================] - 6s 21ms/step - loss: 0.6915 - accuracy: 0.7564 - val_loss: 0.8027 - val_accuracy: 0.7235 - lr: 0.0100\n",
      "Epoch 16/100\n",
      "313/313 [==============================] - 7s 21ms/step - loss: 0.6696 - accuracy: 0.7639 - val_loss: 0.8190 - val_accuracy: 0.7184 - lr: 0.0100\n",
      "Epoch 17/100\n",
      "313/313 [==============================] - 7s 22ms/step - loss: 0.6542 - accuracy: 0.7704 - val_loss: 0.7675 - val_accuracy: 0.7305 - lr: 0.0100\n",
      "Epoch 18/100\n",
      "313/313 [==============================] - 6s 19ms/step - loss: 0.6396 - accuracy: 0.7748 - val_loss: 0.7421 - val_accuracy: 0.7469 - lr: 0.0100\n",
      "Epoch 19/100\n",
      "313/313 [==============================] - 6s 19ms/step - loss: 0.6182 - accuracy: 0.7825 - val_loss: 0.7254 - val_accuracy: 0.7551 - lr: 0.0100\n",
      "Epoch 20/100\n",
      "313/313 [==============================] - 6s 21ms/step - loss: 0.6130 - accuracy: 0.7865 - val_loss: 0.7464 - val_accuracy: 0.7434 - lr: 0.0100\n",
      "Epoch 21/100\n",
      "313/313 [==============================] - 7s 21ms/step - loss: 0.5487 - accuracy: 0.8073 - val_loss: 0.6617 - val_accuracy: 0.7698 - lr: 0.0050\n",
      "Epoch 22/100\n",
      "313/313 [==============================] - 6s 20ms/step - loss: 0.5316 - accuracy: 0.8141 - val_loss: 0.6934 - val_accuracy: 0.7595 - lr: 0.0050\n",
      "Epoch 23/100\n",
      "313/313 [==============================] - 6s 21ms/step - loss: 0.5203 - accuracy: 0.8195 - val_loss: 0.6876 - val_accuracy: 0.7653 - lr: 0.0050\n",
      "Epoch 24/100\n",
      "313/313 [==============================] - 6s 20ms/step - loss: 0.5167 - accuracy: 0.8198 - val_loss: 0.6681 - val_accuracy: 0.7644 - lr: 0.0050\n",
      "Epoch 25/100\n",
      "313/313 [==============================] - 6s 20ms/step - loss: 0.5030 - accuracy: 0.8242 - val_loss: 0.6879 - val_accuracy: 0.7675 - lr: 0.0050\n",
      "Epoch 26/100\n",
      "313/313 [==============================] - 6s 19ms/step - loss: 0.5044 - accuracy: 0.8234 - val_loss: 0.7108 - val_accuracy: 0.7604 - lr: 0.0050\n",
      "Epoch 27/100\n",
      "313/313 [==============================] - 6s 21ms/step - loss: 0.4944 - accuracy: 0.8271 - val_loss: 0.6530 - val_accuracy: 0.7757 - lr: 0.0050\n",
      "Epoch 28/100\n",
      "313/313 [==============================] - 6s 18ms/step - loss: 0.4874 - accuracy: 0.8289 - val_loss: 0.6678 - val_accuracy: 0.7772 - lr: 0.0050\n",
      "Epoch 29/100\n",
      "313/313 [==============================] - 6s 20ms/step - loss: 0.4800 - accuracy: 0.8300 - val_loss: 0.6957 - val_accuracy: 0.7637 - lr: 0.0050\n",
      "Epoch 30/100\n",
      "313/313 [==============================] - 6s 20ms/step - loss: 0.4732 - accuracy: 0.8320 - val_loss: 0.6792 - val_accuracy: 0.7724 - lr: 0.0050\n",
      "Epoch 31/100\n",
      "313/313 [==============================] - 6s 20ms/step - loss: 0.4659 - accuracy: 0.8359 - val_loss: 0.7044 - val_accuracy: 0.7647 - lr: 0.0050\n",
      "Epoch 32/100\n",
      "313/313 [==============================] - 6s 20ms/step - loss: 0.4676 - accuracy: 0.8365 - val_loss: 0.6870 - val_accuracy: 0.7689 - lr: 0.0050\n",
      "Epoch 33/100\n",
      "313/313 [==============================] - 6s 19ms/step - loss: 0.4549 - accuracy: 0.8400 - val_loss: 0.6982 - val_accuracy: 0.7657 - lr: 0.0050\n",
      "Epoch 34/100\n",
      "313/313 [==============================] - 7s 21ms/step - loss: 0.4512 - accuracy: 0.8411 - val_loss: 0.6867 - val_accuracy: 0.7746 - lr: 0.0050\n",
      "Epoch 35/100\n",
      "313/313 [==============================] - 7s 22ms/step - loss: 0.4437 - accuracy: 0.8425 - val_loss: 0.7091 - val_accuracy: 0.7678 - lr: 0.0050\n",
      "Epoch 36/100\n",
      "313/313 [==============================] - 7s 21ms/step - loss: 0.4397 - accuracy: 0.8423 - val_loss: 0.6875 - val_accuracy: 0.7690 - lr: 0.0050\n",
      "Epoch 37/100\n",
      "313/313 [==============================] - 6s 21ms/step - loss: 0.4400 - accuracy: 0.8466 - val_loss: 0.6736 - val_accuracy: 0.7759 - lr: 0.0050\n",
      "Epoch 38/100\n",
      "313/313 [==============================] - 6s 20ms/step - loss: 0.4306 - accuracy: 0.8462 - val_loss: 0.7005 - val_accuracy: 0.7699 - lr: 0.0050\n",
      "Epoch 39/100\n",
      "313/313 [==============================] - 6s 19ms/step - loss: 0.4276 - accuracy: 0.8474 - val_loss: 0.6845 - val_accuracy: 0.7723 - lr: 0.0050\n",
      "Epoch 40/100\n",
      "313/313 [==============================] - 6s 19ms/step - loss: 0.4197 - accuracy: 0.8526 - val_loss: 0.7274 - val_accuracy: 0.7588 - lr: 0.0050\n",
      "Epoch 41/100\n",
      "313/313 [==============================] - 6s 20ms/step - loss: 0.3778 - accuracy: 0.8688 - val_loss: 0.6649 - val_accuracy: 0.7814 - lr: 0.0025\n",
      "Epoch 42/100\n",
      "313/313 [==============================] - 6s 20ms/step - loss: 0.3718 - accuracy: 0.8681 - val_loss: 0.6567 - val_accuracy: 0.7884 - lr: 0.0025\n",
      "Epoch 43/100\n",
      "313/313 [==============================] - 6s 20ms/step - loss: 0.3676 - accuracy: 0.8691 - val_loss: 0.6785 - val_accuracy: 0.7837 - lr: 0.0025\n",
      "Epoch 44/100\n",
      "313/313 [==============================] - 6s 20ms/step - loss: 0.3673 - accuracy: 0.8709 - val_loss: 0.6792 - val_accuracy: 0.7859 - lr: 0.0025\n",
      "Epoch 45/100\n",
      "313/313 [==============================] - 7s 21ms/step - loss: 0.3629 - accuracy: 0.8722 - val_loss: 0.6851 - val_accuracy: 0.7817 - lr: 0.0025\n",
      "Epoch 46/100\n",
      "313/313 [==============================] - 6s 20ms/step - loss: 0.3568 - accuracy: 0.8745 - val_loss: 0.6878 - val_accuracy: 0.7794 - lr: 0.0025\n",
      "Epoch 47/100\n",
      "313/313 [==============================] - 6s 18ms/step - loss: 0.3511 - accuracy: 0.8758 - val_loss: 0.6885 - val_accuracy: 0.7804 - lr: 0.0025\n",
      "Epoch 48/100\n",
      "313/313 [==============================] - 6s 19ms/step - loss: 0.3521 - accuracy: 0.8752 - val_loss: 0.7030 - val_accuracy: 0.7776 - lr: 0.0025\n",
      "Epoch 49/100\n",
      "313/313 [==============================] - 6s 20ms/step - loss: 0.3456 - accuracy: 0.8772 - val_loss: 0.7231 - val_accuracy: 0.7728 - lr: 0.0025\n",
      "Epoch 50/100\n",
      "313/313 [==============================] - 6s 20ms/step - loss: 0.3432 - accuracy: 0.8776 - val_loss: 0.6983 - val_accuracy: 0.7823 - lr: 0.0025\n",
      "Epoch 51/100\n",
      "313/313 [==============================] - 6s 20ms/step - loss: 0.3435 - accuracy: 0.8789 - val_loss: 0.7001 - val_accuracy: 0.7853 - lr: 0.0025\n",
      "Epoch 52/100\n",
      "313/313 [==============================] - 7s 21ms/step - loss: 0.3401 - accuracy: 0.8791 - val_loss: 0.6995 - val_accuracy: 0.7810 - lr: 0.0025\n"
     ]
    },
    {
     "name": "stdout",
     "output_type": "stream",
     "text": [
      "Epoch 53/100\n",
      "313/313 [==============================] - 6s 20ms/step - loss: 0.3380 - accuracy: 0.8785 - val_loss: 0.7352 - val_accuracy: 0.7762 - lr: 0.0025\n",
      "Epoch 54/100\n",
      "313/313 [==============================] - 6s 21ms/step - loss: 0.3354 - accuracy: 0.8809 - val_loss: 0.7096 - val_accuracy: 0.7801 - lr: 0.0025\n",
      "Epoch 55/100\n",
      "313/313 [==============================] - 6s 21ms/step - loss: 0.3329 - accuracy: 0.8814 - val_loss: 0.7153 - val_accuracy: 0.7821 - lr: 0.0025\n",
      "Epoch 56/100\n",
      "313/313 [==============================] - 7s 23ms/step - loss: 0.3322 - accuracy: 0.8812 - val_loss: 0.7375 - val_accuracy: 0.7802 - lr: 0.0025\n",
      "Epoch 57/100\n",
      "313/313 [==============================] - 7s 21ms/step - loss: 0.3304 - accuracy: 0.8822 - val_loss: 0.7306 - val_accuracy: 0.7767 - lr: 0.0025\n",
      "Epoch 58/100\n",
      "313/313 [==============================] - 7s 21ms/step - loss: 0.3255 - accuracy: 0.8840 - val_loss: 0.7414 - val_accuracy: 0.7845 - lr: 0.0025\n",
      "Epoch 59/100\n",
      "313/313 [==============================] - 6s 20ms/step - loss: 0.3235 - accuracy: 0.8845 - val_loss: 0.7379 - val_accuracy: 0.7757 - lr: 0.0025\n",
      "Epoch 60/100\n",
      "313/313 [==============================] - 6s 19ms/step - loss: 0.3227 - accuracy: 0.8841 - val_loss: 0.7342 - val_accuracy: 0.7782 - lr: 0.0025\n",
      "Epoch 61/100\n",
      "313/313 [==============================] - 7s 21ms/step - loss: 0.2968 - accuracy: 0.8932 - val_loss: 0.7206 - val_accuracy: 0.7850 - lr: 0.0012\n",
      "Epoch 62/100\n",
      "313/313 [==============================] - 6s 18ms/step - loss: 0.2891 - accuracy: 0.8961 - val_loss: 0.7268 - val_accuracy: 0.7860 - lr: 0.0012\n",
      "Epoch 63/100\n",
      "313/313 [==============================] - 6s 19ms/step - loss: 0.2910 - accuracy: 0.8965 - val_loss: 0.7324 - val_accuracy: 0.7846 - lr: 0.0012\n",
      "Epoch 64/100\n",
      "313/313 [==============================] - 6s 19ms/step - loss: 0.2846 - accuracy: 0.8983 - val_loss: 0.7319 - val_accuracy: 0.7849 - lr: 0.0012\n",
      "Epoch 65/100\n",
      "313/313 [==============================] - 6s 19ms/step - loss: 0.2831 - accuracy: 0.9008 - val_loss: 0.7442 - val_accuracy: 0.7817 - lr: 0.0012\n",
      "Epoch 66/100\n",
      "313/313 [==============================] - 6s 19ms/step - loss: 0.2813 - accuracy: 0.8998 - val_loss: 0.7641 - val_accuracy: 0.7814 - lr: 0.0012\n",
      "Epoch 67/100\n",
      "313/313 [==============================] - 6s 20ms/step - loss: 0.2814 - accuracy: 0.9002 - val_loss: 0.7422 - val_accuracy: 0.7841 - lr: 0.0012\n",
      "Epoch 68/100\n",
      "313/313 [==============================] - 6s 20ms/step - loss: 0.2791 - accuracy: 0.8998 - val_loss: 0.7542 - val_accuracy: 0.7835 - lr: 0.0012\n",
      "Epoch 69/100\n",
      "313/313 [==============================] - 6s 20ms/step - loss: 0.2772 - accuracy: 0.9007 - val_loss: 0.7510 - val_accuracy: 0.7823 - lr: 0.0012\n",
      "Epoch 70/100\n",
      "313/313 [==============================] - 6s 19ms/step - loss: 0.2746 - accuracy: 0.9015 - val_loss: 0.7551 - val_accuracy: 0.7789 - lr: 0.0012\n",
      "Epoch 71/100\n",
      "313/313 [==============================] - 6s 19ms/step - loss: 0.2782 - accuracy: 0.9015 - val_loss: 0.7583 - val_accuracy: 0.7829 - lr: 0.0012\n",
      "Epoch 72/100\n",
      "313/313 [==============================] - 7s 21ms/step - loss: 0.2745 - accuracy: 0.9009 - val_loss: 0.7706 - val_accuracy: 0.7817 - lr: 0.0012\n",
      "Epoch 73/100\n",
      "313/313 [==============================] - 7s 22ms/step - loss: 0.2715 - accuracy: 0.9032 - val_loss: 0.7563 - val_accuracy: 0.7803 - lr: 0.0012\n",
      "Epoch 74/100\n",
      "313/313 [==============================] - 7s 21ms/step - loss: 0.2727 - accuracy: 0.9027 - val_loss: 0.7695 - val_accuracy: 0.7805 - lr: 0.0012\n",
      "Epoch 75/100\n",
      "313/313 [==============================] - 6s 20ms/step - loss: 0.2717 - accuracy: 0.9026 - val_loss: 0.7700 - val_accuracy: 0.7790 - lr: 0.0012\n",
      "Epoch 76/100\n",
      "313/313 [==============================] - 6s 20ms/step - loss: 0.2660 - accuracy: 0.9056 - val_loss: 0.7786 - val_accuracy: 0.7766 - lr: 0.0012\n",
      "Epoch 77/100\n",
      "313/313 [==============================] - 6s 20ms/step - loss: 0.2642 - accuracy: 0.9059 - val_loss: 0.7972 - val_accuracy: 0.7776 - lr: 0.0012\n",
      "Epoch 78/100\n",
      "313/313 [==============================] - 6s 19ms/step - loss: 0.2662 - accuracy: 0.9042 - val_loss: 0.7883 - val_accuracy: 0.7807 - lr: 0.0012\n",
      "Epoch 79/100\n",
      "313/313 [==============================] - 6s 20ms/step - loss: 0.2659 - accuracy: 0.9049 - val_loss: 0.7805 - val_accuracy: 0.7789 - lr: 0.0012\n",
      "Epoch 80/100\n",
      "313/313 [==============================] - 6s 19ms/step - loss: 0.2604 - accuracy: 0.9065 - val_loss: 0.7813 - val_accuracy: 0.7781 - lr: 0.0012\n",
      "Epoch 81/100\n",
      "313/313 [==============================] - 7s 21ms/step - loss: 0.2473 - accuracy: 0.9116 - val_loss: 0.7761 - val_accuracy: 0.7840 - lr: 6.2500e-04\n",
      "Epoch 82/100\n",
      "313/313 [==============================] - 6s 19ms/step - loss: 0.2468 - accuracy: 0.9116 - val_loss: 0.7830 - val_accuracy: 0.7821 - lr: 6.2500e-04\n",
      "Epoch 83/100\n",
      "313/313 [==============================] - 7s 22ms/step - loss: 0.2429 - accuracy: 0.9153 - val_loss: 0.7892 - val_accuracy: 0.7790 - lr: 6.2500e-04\n",
      "Epoch 84/100\n",
      "313/313 [==============================] - 7s 21ms/step - loss: 0.2432 - accuracy: 0.9135 - val_loss: 0.7895 - val_accuracy: 0.7829 - lr: 6.2500e-04\n",
      "Epoch 85/100\n",
      "313/313 [==============================] - 6s 18ms/step - loss: 0.2408 - accuracy: 0.9144 - val_loss: 0.7850 - val_accuracy: 0.7815 - lr: 6.2500e-04\n",
      "Epoch 86/100\n",
      "313/313 [==============================] - 6s 21ms/step - loss: 0.2372 - accuracy: 0.9161 - val_loss: 0.7906 - val_accuracy: 0.7785 - lr: 6.2500e-04\n",
      "Epoch 87/100\n",
      "313/313 [==============================] - 7s 21ms/step - loss: 0.2411 - accuracy: 0.9144 - val_loss: 0.7946 - val_accuracy: 0.7827 - lr: 6.2500e-04\n",
      "Epoch 88/100\n",
      "313/313 [==============================] - 7s 21ms/step - loss: 0.2399 - accuracy: 0.9142 - val_loss: 0.7949 - val_accuracy: 0.7800 - lr: 6.2500e-04\n",
      "Epoch 89/100\n",
      "313/313 [==============================] - 6s 20ms/step - loss: 0.2375 - accuracy: 0.9153 - val_loss: 0.8011 - val_accuracy: 0.7819 - lr: 6.2500e-04\n",
      "Epoch 90/100\n",
      "313/313 [==============================] - 6s 20ms/step - loss: 0.2351 - accuracy: 0.9161 - val_loss: 0.8021 - val_accuracy: 0.7811 - lr: 6.2500e-04\n",
      "Epoch 91/100\n",
      "313/313 [==============================] - 7s 23ms/step - loss: 0.2375 - accuracy: 0.9158 - val_loss: 0.8102 - val_accuracy: 0.7803 - lr: 6.2500e-04\n",
      "Epoch 92/100\n",
      "313/313 [==============================] - 7s 22ms/step - loss: 0.2372 - accuracy: 0.9151 - val_loss: 0.7995 - val_accuracy: 0.7813 - lr: 6.2500e-04\n",
      "Epoch 93/100\n",
      "313/313 [==============================] - 7s 22ms/step - loss: 0.2347 - accuracy: 0.9158 - val_loss: 0.8026 - val_accuracy: 0.7817 - lr: 6.2500e-04\n",
      "Epoch 94/100\n",
      "313/313 [==============================] - 6s 19ms/step - loss: 0.2321 - accuracy: 0.9173 - val_loss: 0.8077 - val_accuracy: 0.7803 - lr: 6.2500e-04\n",
      "Epoch 95/100\n",
      "313/313 [==============================] - 6s 20ms/step - loss: 0.2351 - accuracy: 0.9174 - val_loss: 0.8143 - val_accuracy: 0.7822 - lr: 6.2500e-04\n",
      "Epoch 96/100\n",
      "313/313 [==============================] - 6s 20ms/step - loss: 0.2343 - accuracy: 0.9166 - val_loss: 0.8123 - val_accuracy: 0.7806 - lr: 6.2500e-04\n",
      "Epoch 97/100\n",
      "313/313 [==============================] - 6s 20ms/step - loss: 0.2310 - accuracy: 0.9173 - val_loss: 0.8228 - val_accuracy: 0.7800 - lr: 6.2500e-04\n",
      "Epoch 98/100\n",
      "313/313 [==============================] - 7s 21ms/step - loss: 0.2306 - accuracy: 0.9173 - val_loss: 0.8161 - val_accuracy: 0.7817 - lr: 6.2500e-04\n",
      "Epoch 99/100\n",
      "313/313 [==============================] - 6s 20ms/step - loss: 0.2305 - accuracy: 0.9175 - val_loss: 0.8190 - val_accuracy: 0.7800 - lr: 6.2500e-04\n",
      "Epoch 100/100\n",
      "313/313 [==============================] - 6s 19ms/step - loss: 0.2347 - accuracy: 0.9155 - val_loss: 0.8256 - val_accuracy: 0.7811 - lr: 6.2500e-04\n"
     ]
    }
   ],
   "source": [
    "# Train the model\n",
    "history = model.fit(train_images, train_labels, epochs = 100, batch_size = 128, \n",
    "                    validation_split = 0.2, callbacks=callbacks)"
   ]
  },
  {
   "cell_type": "markdown",
   "id": "01e93733",
   "metadata": {},
   "source": [
    "### Plotting the loss & Accuracy curves"
   ]
  },
  {
   "cell_type": "code",
   "execution_count": 21,
   "id": "a9492b58",
   "metadata": {
    "scrolled": true
   },
   "outputs": [
    {
     "data": {
      "image/png": "[encoded data removed]",
      "text/plain": [
       "<Figure size 640x480 with 1 Axes>"
      ]
     },
     "metadata": {},
     "output_type": "display_data"
    },
    {
     "data": {
      "image/png": "[encoded data removed]",
      "text/plain": [
       "<Figure size 640x480 with 1 Axes>"
      ]
     },
     "metadata": {},
     "output_type": "display_data"
    }
   ],
   "source": [
    "plot_history(history)"
   ]
  },
  {
   "cell_type": "markdown",
   "id": "3afc12d7",
   "metadata": {},
   "source": [
    "### Evaluate the trained model on previously unseen test data "
   ]
  },
  {
   "cell_type": "code",
   "execution_count": 22,
   "id": "2e185eb8",
   "metadata": {},
   "outputs": [],
   "source": [
    "#model = tf.keras.models.load_model(\"./models/model_cifar.keras\")"
   ]
  },
  {
   "cell_type": "code",
   "execution_count": 23,
   "id": "1e8073a0",
   "metadata": {},
   "outputs": [
    {
     "name": "stdout",
     "output_type": "stream",
     "text": [
      "313/313 [==============================] - 2s 6ms/step - loss: 0.8681 - accuracy: 0.7724\n"
     ]
    },
    {
     "data": {
      "text/plain": [
       "[0.8680514693260193, 0.7724000215530396]"
      ]
     },
     "execution_count": 23,
     "metadata": {},
     "output_type": "execute_result"
    }
   ],
   "source": [
    "model.evaluate(test_images, test_labels) "
   ]
  },
  {
   "cell_type": "code",
   "execution_count": null,
   "id": "b62627a4",
   "metadata": {},
   "outputs": [],
   "source": []
  }
 ],
 "metadata": {
  "kernelspec": {
   "display_name": "Python 3 (ipykernel)",
   "language": "python",
   "name": "python3"
  },
  "language_info": {
   "codemirror_mode": {
    "name": "ipython",
    "version": 3
   },
   "file_extension": ".py",
   "mimetype": "text/x-python",
   "name": "python",
   "nbconvert_exporter": "python",
   "pygments_lexer": "ipython3",
   "version": "3.8.0"
  }
 },
 "nbformat": 4,
 "nbformat_minor": 5
}

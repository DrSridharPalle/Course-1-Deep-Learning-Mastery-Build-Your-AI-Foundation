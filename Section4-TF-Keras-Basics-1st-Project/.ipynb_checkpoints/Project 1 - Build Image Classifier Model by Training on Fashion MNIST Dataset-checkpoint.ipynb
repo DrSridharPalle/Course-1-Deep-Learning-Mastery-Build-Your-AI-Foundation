{
 "cells": [
  {
   "cell_type": "markdown",
   "id": "29d3b3fe",
   "metadata": {},
   "source": [
    "<img style=\"float: left;\" src=\"./images/PallenceAI-Final.png\" width=\"800\">"
   ]
  },
  {
   "cell_type": "markdown",
   "id": "fccee792",
   "metadata": {},
   "source": [
    "# Project 1: Lets build an Image Classifier Model on Fashion_Mnist Dataset"
   ]
  },
  {
   "cell_type": "markdown",
   "id": "333a5a8a",
   "metadata": {},
   "source": [
    "<img style=\"float: left;\" src=\"./images/fashion_mnist.jpg\" width=\"1000\">"
   ]
  },
  {
   "cell_type": "markdown",
   "id": "162adc49",
   "metadata": {},
   "source": [
    "## Import needed libraries "
   ]
  },
  {
   "cell_type": "code",
   "execution_count": 1,
   "id": "6a9babbb",
   "metadata": {},
   "outputs": [],
   "source": [
    "#Basic Python packages for data wrangling\n",
    "import numpy as np\n",
    "import pandas as pd\n",
    "import matplotlib.pyplot as plt\n",
    "\n",
    "#Tensorflow & Keras related packages\n",
    "import tensorflow as tf\n",
    "from tensorflow import keras\n",
    "from keras import layers"
   ]
  },
  {
   "cell_type": "markdown",
   "id": "f50a78ca",
   "metadata": {},
   "source": [
    "## Load Fashion MNIST Dataset Preloaded in Keras"
   ]
  },
  {
   "cell_type": "code",
   "execution_count": 2,
   "id": "24f0320c",
   "metadata": {},
   "outputs": [],
   "source": [
    "from tensorflow.keras.datasets import fashion_mnist"
   ]
  },
  {
   "cell_type": "code",
   "execution_count": 3,
   "id": "14d20b97",
   "metadata": {},
   "outputs": [],
   "source": [
    "(train_images, train_labels), (test_images, test_labels) = fashion_mnist.load_data()"
   ]
  },
  {
   "cell_type": "markdown",
   "id": "6401c5bc",
   "metadata": {},
   "source": [
    "### Understanding the Data "
   ]
  },
  {
   "cell_type": "code",
   "execution_count": 4,
   "id": "c00b88e8",
   "metadata": {},
   "outputs": [
    {
     "data": {
      "text/plain": [
       "numpy.ndarray"
      ]
     },
     "execution_count": 4,
     "metadata": {},
     "output_type": "execute_result"
    }
   ],
   "source": [
    "type(train_images)"
   ]
  },
  {
   "cell_type": "code",
   "execution_count": 5,
   "id": "25b3c926",
   "metadata": {},
   "outputs": [
    {
     "data": {
      "text/plain": [
       "(60000, 28, 28)"
      ]
     },
     "execution_count": 5,
     "metadata": {},
     "output_type": "execute_result"
    }
   ],
   "source": [
    "train_images.shape # There are 60000 images in the training data. Each image is a 28 x 28 gray scale image"
   ]
  },
  {
   "cell_type": "code",
   "execution_count": 6,
   "id": "ee0aff2c",
   "metadata": {},
   "outputs": [
    {
     "data": {
      "text/plain": [
       "(60000,)"
      ]
     },
     "execution_count": 6,
     "metadata": {},
     "output_type": "execute_result"
    }
   ],
   "source": [
    "train_labels.shape # 60000 labels corresponding to each image"
   ]
  },
  {
   "cell_type": "code",
   "execution_count": 7,
   "id": "4d844d8e",
   "metadata": {},
   "outputs": [
    {
     "data": {
      "text/plain": [
       "array([[[0, 0, 0, ..., 0, 0, 0],\n",
       "        [0, 0, 0, ..., 0, 0, 0],\n",
       "        [0, 0, 0, ..., 0, 0, 0],\n",
       "        ...,\n",
       "        [0, 0, 0, ..., 0, 0, 0],\n",
       "        [0, 0, 0, ..., 0, 0, 0],\n",
       "        [0, 0, 0, ..., 0, 0, 0]],\n",
       "\n",
       "       [[0, 0, 0, ..., 0, 0, 0],\n",
       "        [0, 0, 0, ..., 0, 0, 0],\n",
       "        [0, 0, 0, ..., 0, 0, 0],\n",
       "        ...,\n",
       "        [0, 0, 0, ..., 0, 0, 0],\n",
       "        [0, 0, 0, ..., 0, 0, 0],\n",
       "        [0, 0, 0, ..., 0, 0, 0]],\n",
       "\n",
       "       [[0, 0, 0, ..., 0, 0, 0],\n",
       "        [0, 0, 0, ..., 0, 0, 0],\n",
       "        [0, 0, 0, ..., 0, 0, 0],\n",
       "        ...,\n",
       "        [0, 0, 0, ..., 0, 0, 0],\n",
       "        [0, 0, 0, ..., 0, 0, 0],\n",
       "        [0, 0, 0, ..., 0, 0, 0]],\n",
       "\n",
       "       ...,\n",
       "\n",
       "       [[0, 0, 0, ..., 0, 0, 0],\n",
       "        [0, 0, 0, ..., 0, 0, 0],\n",
       "        [0, 0, 0, ..., 0, 0, 0],\n",
       "        ...,\n",
       "        [0, 0, 0, ..., 0, 0, 0],\n",
       "        [0, 0, 0, ..., 0, 0, 0],\n",
       "        [0, 0, 0, ..., 0, 0, 0]],\n",
       "\n",
       "       [[0, 0, 0, ..., 0, 0, 0],\n",
       "        [0, 0, 0, ..., 0, 0, 0],\n",
       "        [0, 0, 0, ..., 0, 0, 0],\n",
       "        ...,\n",
       "        [0, 0, 0, ..., 0, 0, 0],\n",
       "        [0, 0, 0, ..., 0, 0, 0],\n",
       "        [0, 0, 0, ..., 0, 0, 0]],\n",
       "\n",
       "       [[0, 0, 0, ..., 0, 0, 0],\n",
       "        [0, 0, 0, ..., 0, 0, 0],\n",
       "        [0, 0, 0, ..., 0, 0, 0],\n",
       "        ...,\n",
       "        [0, 0, 0, ..., 0, 0, 0],\n",
       "        [0, 0, 0, ..., 0, 0, 0],\n",
       "        [0, 0, 0, ..., 0, 0, 0]]], dtype=uint8)"
      ]
     },
     "execution_count": 7,
     "metadata": {},
     "output_type": "execute_result"
    }
   ],
   "source": [
    "train_images"
   ]
  },
  {
   "cell_type": "code",
   "execution_count": 8,
   "id": "f1e26698",
   "metadata": {},
   "outputs": [
    {
     "data": {
      "text/plain": [
       "array([[[  0,   0,   0, 193],\n",
       "        [  3,   0,  12, 219],\n",
       "        [  6,   0,  99, 244],\n",
       "        [  0,   0,  55, 236]],\n",
       "\n",
       "       [[252, 250, 248, 245],\n",
       "        [208, 192, 197, 200],\n",
       "        [214, 203, 206, 204],\n",
       "        [212, 202, 206, 205]],\n",
       "\n",
       "       [[ 87,  87,  85,  88],\n",
       "        [ 88,  87,  87,  88],\n",
       "        [ 87,  87,  87,  87],\n",
       "        [ 87,  87,  87,  87]],\n",
       "\n",
       "       [[129, 112, 104, 114],\n",
       "        [135, 129,  98, 100],\n",
       "        [135, 127, 100, 108],\n",
       "        [129, 110, 100,  91]],\n",
       "\n",
       "       [[216, 214, 217, 216],\n",
       "        [216, 214, 216, 217],\n",
       "        [216, 214, 217, 220],\n",
       "        [216, 215, 218, 222]]], dtype=uint8)"
      ]
     },
     "execution_count": 8,
     "metadata": {},
     "output_type": "execute_result"
    }
   ],
   "source": [
    "train_images[0:5,10:14,10:14] # Taking a look at some Pixel values of first 5 images\n",
    "# the values filled in this 28 x 28 arrays are pixel values between 0 to 255."
   ]
  },
  {
   "cell_type": "code",
   "execution_count": 9,
   "id": "495bfad4",
   "metadata": {},
   "outputs": [
    {
     "data": {
      "text/plain": [
       "array([9, 0, 0, 3, 0], dtype=uint8)"
      ]
     },
     "execution_count": 9,
     "metadata": {},
     "output_type": "execute_result"
    }
   ],
   "source": [
    "train_labels[0:5] # Looking at the labels for the first 5 images"
   ]
  },
  {
   "cell_type": "code",
   "execution_count": 10,
   "id": "85233eb1",
   "metadata": {},
   "outputs": [
    {
     "data": {
      "text/plain": [
       "(10000, 28, 28)"
      ]
     },
     "execution_count": 10,
     "metadata": {},
     "output_type": "execute_result"
    }
   ],
   "source": [
    "# In test data we have 10k examples. \n",
    "test_images.shape"
   ]
  },
  {
   "cell_type": "code",
   "execution_count": 11,
   "id": "c7671e8a",
   "metadata": {},
   "outputs": [
    {
     "data": {
      "text/plain": [
       "(10000,)"
      ]
     },
     "execution_count": 11,
     "metadata": {},
     "output_type": "execute_result"
    }
   ],
   "source": [
    "test_labels.shape"
   ]
  },
  {
   "cell_type": "markdown",
   "id": "fb6d6dcf",
   "metadata": {},
   "source": [
    "**Lets take a peek at few images to see what they are**"
   ]
  },
  {
   "cell_type": "code",
   "execution_count": 12,
   "id": "67966a31",
   "metadata": {},
   "outputs": [
    {
     "data": {
      "text/plain": [
       "array([9, 0, 0, 3, 0, 2, 7, 2, 5, 5], dtype=uint8)"
      ]
     },
     "execution_count": 12,
     "metadata": {},
     "output_type": "execute_result"
    }
   ],
   "source": [
    "# 0:\"T-shirt/top\", 1:\"Trouser\", 2:\"Pullover\", 3:\"Dress\", 4:\"Coat\"\n",
    "# 5:\"Sandal\", 6:\"Shirt\", 7:\"Sneaker\", 8: \"Bag\", \"9:Ankle boot\"\n",
    "\n",
    "#Lets look at the labels\n",
    "train_labels[0:10]"
   ]
  },
  {
   "cell_type": "code",
   "execution_count": 13,
   "id": "042e5801",
   "metadata": {},
   "outputs": [
    {
     "data": {
      "image/png": "[encoded data removed]",
      "text/plain": [
       "<Figure size 2000x300 with 10 Axes>"
      ]
     },
     "metadata": {},
     "output_type": "display_data"
    }
   ],
   "source": [
    "#Lets take a peek at the first 10 images in the training data set\n",
    "plt.figure(figsize=(20,3))\n",
    "for i in range(10):\n",
    "    _ = plt.subplot(1, 10, i + 1)\n",
    "    plt.imshow(train_images[i].astype(\"float32\"), cmap=\"gray_r\")\n",
    "    plt.axis(\"off\")"
   ]
  },
  {
   "cell_type": "markdown",
   "id": "5334a0bf",
   "metadata": {},
   "source": [
    "## Train a simple Deep Learning Model for Classifying Fashion Images -  9 Lines of code"
   ]
  },
  {
   "cell_type": "code",
   "execution_count": 14,
   "id": "df4aeef7",
   "metadata": {},
   "outputs": [],
   "source": [
    "# train_images = train_images.reshape((60000, 28 * 28)) # Reshape each image from a 28 x 28 grayscale pixel values to 784 = 28*28\n",
    "# train_images = train_images.astype(\"float32\") / 255 # Convert into a float32 with values scaled between [0,1] instead of [0,255]\n",
    "# test_images = test_images.reshape((10000, 28 * 28)) # Reshape each image from a 28 x 28 grayscale pixel values to 784 = 28*28\n",
    "# test_images = test_images.astype(\"float32\") / 255 # Convert into a float32 with values scaled between [0,1] instead of [0,255]\n",
    "\n",
    "# model = keras.Sequential() # Start building a sequential keras model\n",
    "# model.add(layers.Dense(512,activation='relu')) # Add first layer with 512 Hidden Units, and use Relu for nonlinear activation\n",
    "# model.add(layers.Dense(10,activation = \"softmax\")) # Last output layer which will be softmax classification.\n",
    "\n",
    "# model.compile(optimizer='rmsprop', loss='sparse_categorical_crossentropy', metrics = [\"accuracy\"])\n",
    "\n",
    "# model.fit(train_images, train_labels, epochs = 5, batch_size = 128)"
   ]
  },
  {
   "cell_type": "markdown",
   "id": "3dbd71c3",
   "metadata": {},
   "source": [
    "<img style=\"float: left;\" src=\"./images/DL-Intuition3.png\" Width=\"500\">"
   ]
  },
  {
   "cell_type": "markdown",
   "id": "c040726f",
   "metadata": {},
   "source": [
    "### Preprocess the Input Data"
   ]
  },
  {
   "cell_type": "code",
   "execution_count": 15,
   "id": "39f5f467",
   "metadata": {},
   "outputs": [],
   "source": [
    "# Prepare the data into a format this simple model expects it to be\n",
    "#-------------------------------------------------------------\n",
    "# Flatten the 2D Pixel image into a 1D vector (reshape) 28 * 28 = 784\n",
    "# Convert the data type into float (astype) from integer\n",
    "# Divide by 255.0, so that all the pixel values are scaled between 0 and 1\n",
    "\n",
    "# Preprocess Training data\n",
    "train_images = train_images.reshape((60000, 28 * 28)) # Reshape each image from a 28 x 28 grayscale pixel values to 784 = 28*28\n",
    "train_images = train_images.astype(\"float32\") / 255 # Convert into a float32 with values scaled between [0,1] instead of [0,255]\n",
    "\n",
    "#Preprocess Test data\n",
    "test_images = test_images.reshape((10000, 28 * 28)) # Reshape each image from a 28 x 28 grayscale pixel values to 784 = 28*28\n",
    "test_images = test_images.astype(\"float32\") / 255 # Convert into a float32 with values scaled between [0,1] instead of [0,255]"
   ]
  },
  {
   "cell_type": "markdown",
   "id": "806996ce",
   "metadata": {},
   "source": [
    "### Build the Neural Network Model Architecture"
   ]
  },
  {
   "cell_type": "code",
   "execution_count": 16,
   "id": "a62a363a",
   "metadata": {},
   "outputs": [],
   "source": [
    "# Build the model's neural network architecture\n",
    "model = keras.Sequential() # Start building a Sequential keras model\n",
    "model.add(layers.Dense(512,activation='relu')) # Add first layer with 512 Hidden Units, and use Relu for nonlinear activation\n",
    "model.add(layers.Dense(10,activation = \"softmax\")) # Last output layer which will be softmax classification.\n",
    "# Above layer outputs 10 probabilities summing to 1. Each probability that the predicted image belongs to one of 10 classes."
   ]
  },
  {
   "cell_type": "markdown",
   "id": "a527f2b7",
   "metadata": {},
   "source": [
    "<img style=\"float: left;\" src=\"./images/DL-Intuition3.png\" Width=\"500\">"
   ]
  },
  {
   "cell_type": "markdown",
   "id": "56df0fbd",
   "metadata": {},
   "source": [
    "### Compile the Model"
   ]
  },
  {
   "cell_type": "code",
   "execution_count": 17,
   "id": "955747da",
   "metadata": {},
   "outputs": [],
   "source": [
    "#Compile the Model by configuring the  loss function, optimizer type, & metrics to monitor the model performance\n",
    "# It uses rmsprop algorithm  for gradient decent optimization\n",
    "# Loss is calculated from 'sparse_categorical_crossentropy'\n",
    "# Metric for monitoring model performance: \"accuracy\"\n",
    "\n",
    "model.compile(optimizer='rmsprop', loss='sparse_categorical_crossentropy', metrics = [\"accuracy\"])\n",
    "\n",
    "#for the loss, use \"sparse_categorical_crossentropy\" if u have not one-hot encoded ur training labels (Y). \n",
    "# If you have one-hot encoded the training labels (Y), then use categorical_crossentropy"
   ]
  },
  {
   "cell_type": "markdown",
   "id": "f41b7651",
   "metadata": {},
   "source": [
    "### Train the Model \n",
    "**Basically fit the model on Training data (X: Train_images), (Y: train_labels)**"
   ]
  },
  {
   "cell_type": "code",
   "execution_count": 18,
   "id": "bd2129f9",
   "metadata": {},
   "outputs": [
    {
     "name": "stdout",
     "output_type": "stream",
     "text": [
      "Epoch 1/5\n",
      "469/469 [==============================] - 6s 6ms/step - loss: 0.5613 - accuracy: 0.7997\n",
      "Epoch 2/5\n",
      "469/469 [==============================] - 2s 5ms/step - loss: 0.3790 - accuracy: 0.8612\n",
      "Epoch 3/5\n",
      "469/469 [==============================] - 2s 5ms/step - loss: 0.3362 - accuracy: 0.8754\n",
      "Epoch 4/5\n",
      "469/469 [==============================] - 2s 5ms/step - loss: 0.3090 - accuracy: 0.8867\n",
      "Epoch 5/5\n",
      "469/469 [==============================] - 2s 5ms/step - loss: 0.2911 - accuracy: 0.8933\n"
     ]
    },
    {
     "data": {
      "text/plain": [
       "<keras.callbacks.History at 0x1f5a8e1d820>"
      ]
     },
     "execution_count": 18,
     "metadata": {},
     "output_type": "execute_result"
    }
   ],
   "source": [
    "# Model fits the training data: Maps X --> Y and learns Optimal weights that satisfy this relationship\n",
    "#------------------------------------------------------------------------------------------------------\n",
    "#.fit method orchestrates the entire training process, including the \n",
    "# forward pass (to make predictions), \n",
    "# the backward pass (to compute gradients), which includes the optimization step (to update the weights, i.e., perform the gradient descent step).\n",
    "\n",
    "# The actual mathematical operations for gradient computation and weight update are handled by the backend (like TensorFlow), \n",
    "# ..and the fit method provides a high-level API for managing this process.\n",
    "\n",
    "model.fit(train_images, train_labels, epochs = 5, batch_size = 128)"
   ]
  },
  {
   "cell_type": "markdown",
   "id": "3afc12d7",
   "metadata": {},
   "source": [
    "## Evaluate the trained model on previously unseen test data - 1 line of Code"
   ]
  },
  {
   "cell_type": "code",
   "execution_count": 19,
   "id": "1e8073a0",
   "metadata": {},
   "outputs": [
    {
     "name": "stdout",
     "output_type": "stream",
     "text": [
      "313/313 [==============================] - 2s 4ms/step - loss: 0.3538 - accuracy: 0.8765\n"
     ]
    },
    {
     "data": {
      "text/plain": [
       "[0.35381248593330383, 0.8765000104904175]"
      ]
     },
     "execution_count": 19,
     "metadata": {},
     "output_type": "execute_result"
    }
   ],
   "source": [
    "model.evaluate(test_images, test_labels) # one line of code to test the model performance on entire test data"
   ]
  },
  {
   "cell_type": "markdown",
   "id": "bb98fb5c",
   "metadata": {},
   "source": [
    "### Model Predictions on individual images"
   ]
  },
  {
   "cell_type": "code",
   "execution_count": 20,
   "id": "e149eeae",
   "metadata": {},
   "outputs": [],
   "source": [
    "# Once the model has learnt, or has become smarter we can use it to make predictions on unseen data"
   ]
  },
  {
   "cell_type": "code",
   "execution_count": 27,
   "id": "2b2df9fb",
   "metadata": {},
   "outputs": [
    {
     "name": "stdout",
     "output_type": "stream",
     "text": [
      "Actual Ground Trust Label for This image: 9\n"
     ]
    },
    {
     "data": {
      "image/png": "[encoded data removed]",
      "text/plain": [
       "<Figure size 200x200 with 1 Axes>"
      ]
     },
     "metadata": {},
     "output_type": "display_data"
    }
   ],
   "source": [
    "# lets look at first test image\n",
    "print ('Actual Ground Trust Label for This image:', test_labels[0])\n",
    "plt.figure(figsize=(2, 2), dpi=100)  \n",
    "plt.imshow(train_images[5].reshape(28,28), cmap=\"binary\", interpolation='nearest')\n",
    "plt.show()"
   ]
  },
  {
   "cell_type": "markdown",
   "id": "94f34b4f",
   "metadata": {},
   "source": [
    "**Lets see how good the model is in predicting this first test image**"
   ]
  },
  {
   "cell_type": "code",
   "execution_count": 22,
   "id": "66378327",
   "metadata": {},
   "outputs": [
    {
     "name": "stdout",
     "output_type": "stream",
     "text": [
      "1/1 [==============================] - 0s 135ms/step\n"
     ]
    },
    {
     "data": {
      "text/plain": [
       "array([[0.   , 0.   , 0.   , 0.   , 0.   , 0.003, 0.   , 0.005, 0.   ,\n",
       "        0.992]], dtype=float32)"
      ]
     },
     "execution_count": 22,
     "metadata": {},
     "output_type": "execute_result"
    }
   ],
   "source": [
    "# Model is predicting the probabilities that this each image belongs to each of the 10 different image labels we have\n",
    "# 0:\"T-shirt/top\", 1:\"Trouser\", 2:\"Pullover\", 3:\"Dress\", 4:\"Coat\"\n",
    "# 5:\"Sandal\", 6:\"Shirt\", 7:\"Sneaker\", 8: \"Bag\", \"9:Ankle boot\"\n",
    "\n",
    "pred_probabilities = model.predict(test_images[0:1]) \n",
    "pred_probabilities.round(3)"
   ]
  },
  {
   "cell_type": "code",
   "execution_count": 23,
   "id": "0d29aee7",
   "metadata": {},
   "outputs": [
    {
     "name": "stdout",
     "output_type": "stream",
     "text": [
      "1/1 [==============================] - 0s 30ms/step\n",
      "Model predicted label for the first test image is 9\n"
     ]
    }
   ],
   "source": [
    "# Model Prediction \n",
    "print (\"Model predicted label for the first test image is\", np.argmax(model.predict(test_images[0:1])))"
   ]
  },
  {
   "cell_type": "code",
   "execution_count": null,
   "id": "eb7f3c2c",
   "metadata": {},
   "outputs": [],
   "source": [
    "# 9th index position in the above array has the highest probability, \n",
    "# This indicates that the model is predicting that the first test image (test_image[0]) belongs to class 9"
   ]
  },
  {
   "cell_type": "markdown",
   "id": "d7e4690c",
   "metadata": {},
   "source": [
    "## Congratulations, you just built your first Deep Learning Model\n",
    "###  You have trained & developed an Image classifier that can automatically recognize different fashion items in just 9 lines of code\n",
    "### Evaluated the Models performance on unseen test data"
   ]
  }
 ],
 "metadata": {
  "kernelspec": {
   "display_name": "Python 3 (ipykernel)",
   "language": "python",
   "name": "python3"
  },
  "language_info": {
   "codemirror_mode": {
    "name": "ipython",
    "version": 3
   },
   "file_extension": ".py",
   "mimetype": "text/x-python",
   "name": "python",
   "nbconvert_exporter": "python",
   "pygments_lexer": "ipython3",
   "version": "3.8.0"
  }
 },
 "nbformat": 4,
 "nbformat_minor": 5
}

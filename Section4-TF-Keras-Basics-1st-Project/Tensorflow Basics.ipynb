{
 "cells": [
  {
   "cell_type": "markdown",
   "id": "29d3b3fe",
   "metadata": {},
   "source": [
    "<img style=\"float: left;\" src=\"./images/PalleAI-Banner1.png\" width=\"800\">"
   ]
  },
  {
   "cell_type": "markdown",
   "id": "fccee792",
   "metadata": {},
   "source": [
    "# Tensorflow Basics"
   ]
  },
  {
   "cell_type": "markdown",
   "id": "0dafc33c",
   "metadata": {},
   "source": [
    "**Low level Tensor Manipulation**\n",
    "* Basically the underlying math behind all the deep learning\n",
    "* In principle we can build entire deep learning model from start to finish with tensorflow\n",
    "* But we dont have to, because Keras as a high level API simply lets us build deep learning models very quickly with predefined components (similar to lego bricks). Underlying these components however u can think that tensorflow is still doing all the low level math or tensor manipulation"
   ]
  },
  {
   "cell_type": "markdown",
   "id": "162adc49",
   "metadata": {},
   "source": [
    "## Import needed libraries "
   ]
  },
  {
   "cell_type": "code",
   "execution_count": 1,
   "id": "6a9babbb",
   "metadata": {},
   "outputs": [],
   "source": [
    "#Basic Python packages for data wrangling if needed\n",
    "import numpy as np\n",
    "import pandas as pd\n",
    "import matplotlib.pyplot as plt\n",
    "\n",
    "#Tensorflow & Keras related packages\n",
    "import tensorflow as tf"
   ]
  },
  {
   "cell_type": "markdown",
   "id": "6a7e8b25",
   "metadata": {},
   "source": [
    "### What are Tensors"
   ]
  },
  {
   "cell_type": "code",
   "execution_count": 2,
   "id": "61a265fa",
   "metadata": {},
   "outputs": [],
   "source": [
    "#To do anything in Tensorflow we will need tensors.\n",
    "# Tensors are simply mathematical objects that can be used to describe physical properties, just like scalars and vectors. \n",
    "# In fact tensors are merely a generalisation of scalars and vectors; \n",
    "# a scalar is a zero rank tensor, and a vector is a first rank tensor, a matrix is a 2 rank tensor.\n",
    "# Its very similar to a numpy array"
   ]
  },
  {
   "cell_type": "code",
   "execution_count": 3,
   "id": "56e831e3",
   "metadata": {},
   "outputs": [],
   "source": [
    "# Lets create some simple Tensors"
   ]
  },
  {
   "cell_type": "code",
   "execution_count": 4,
   "id": "b2f4cd26",
   "metadata": {},
   "outputs": [
    {
     "data": {
      "text/plain": [
       "<tf.Tensor: shape=(4, 3), dtype=float32, numpy=\n",
       "array([[1., 1., 1.],\n",
       "       [1., 1., 1.],\n",
       "       [1., 1., 1.],\n",
       "       [1., 1., 1.]], dtype=float32)>"
      ]
     },
     "execution_count": 4,
     "metadata": {},
     "output_type": "execute_result"
    }
   ],
   "source": [
    "x_t = tf.ones(shape=(4,3)) # create a tensor filled with ones\n",
    "x_t"
   ]
  },
  {
   "cell_type": "code",
   "execution_count": 5,
   "id": "11d63648",
   "metadata": {},
   "outputs": [],
   "source": [
    "# u can crerate an equivalent numpy array as follows"
   ]
  },
  {
   "cell_type": "code",
   "execution_count": 6,
   "id": "906f322f",
   "metadata": {},
   "outputs": [
    {
     "data": {
      "text/plain": [
       "array([[1., 1., 1.],\n",
       "       [1., 1., 1.],\n",
       "       [1., 1., 1.],\n",
       "       [1., 1., 1.]])"
      ]
     },
     "execution_count": 6,
     "metadata": {},
     "output_type": "execute_result"
    }
   ],
   "source": [
    "x_np = np.ones(shape=(4,3)) # see the similarity\n",
    "x_np"
   ]
  },
  {
   "cell_type": "code",
   "execution_count": 7,
   "id": "4403b5c4",
   "metadata": {},
   "outputs": [
    {
     "data": {
      "text/plain": [
       "<tf.Tensor: shape=(3, 2), dtype=float32, numpy=\n",
       "array([[1.8663423, 2.3426967],\n",
       "       [2.954131 , 5.112155 ],\n",
       "       [1.3903164, 3.826853 ]], dtype=float32)>"
      ]
     },
     "execution_count": 7,
     "metadata": {},
     "output_type": "execute_result"
    }
   ],
   "source": [
    "x_t = tf.random.normal(shape=(3,2), mean=2, stddev=1) # tensorflow tensor filled with random values drawn from a normal distribution\n",
    "x_t"
   ]
  },
  {
   "cell_type": "code",
   "execution_count": 8,
   "id": "8c774757",
   "metadata": {},
   "outputs": [
    {
     "data": {
      "text/plain": [
       "array([[-0.48284067,  0.62533032],\n",
       "       [ 0.99893408,  0.72374387],\n",
       "       [ 0.38523369, -0.02088909]])"
      ]
     },
     "execution_count": 8,
     "metadata": {},
     "output_type": "execute_result"
    }
   ],
   "source": [
    "x_np = np.random.normal() # numpy array also filled with random values from normal distribution\n",
    "x_np"
   ]
  },
  {
   "cell_type": "markdown",
   "id": "8ef31ccd",
   "metadata": {},
   "source": [
    "**Tensor math operations (Similar to Ufuncs (Universal functions) of Numpy)**"
   ]
  },
  {
   "cell_type": "code",
   "execution_count": 10,
   "id": "1a642cc8",
   "metadata": {},
   "outputs": [
    {
     "data": {
      "text/plain": [
       "<tf.Tensor: shape=(4, 5), dtype=float32, numpy=\n",
       "array([[1., 1., 1., 1., 1.],\n",
       "       [1., 1., 1., 1., 1.],\n",
       "       [1., 1., 1., 1., 1.],\n",
       "       [1., 1., 1., 1., 1.]], dtype=float32)>"
      ]
     },
     "execution_count": 10,
     "metadata": {},
     "output_type": "execute_result"
    }
   ],
   "source": [
    "x_t = tf.ones(shape=(4,5))\n",
    "x_t"
   ]
  },
  {
   "cell_type": "code",
   "execution_count": 11,
   "id": "4425d666",
   "metadata": {},
   "outputs": [
    {
     "data": {
      "text/plain": [
       "<tf.Tensor: shape=(4, 5), dtype=float32, numpy=\n",
       "array([[3., 3., 3., 3., 3.],\n",
       "       [3., 3., 3., 3., 3.],\n",
       "       [3., 3., 3., 3., 3.],\n",
       "       [3., 3., 3., 3., 3.]], dtype=float32)>"
      ]
     },
     "execution_count": 11,
     "metadata": {},
     "output_type": "execute_result"
    }
   ],
   "source": [
    "x_t*3 # multiple tensor with a number"
   ]
  },
  {
   "cell_type": "code",
   "execution_count": 12,
   "id": "d8f72375",
   "metadata": {},
   "outputs": [
    {
     "data": {
      "text/plain": [
       "<tf.Tensor: shape=(4, 5), dtype=float32, numpy=\n",
       "array([[9., 9., 9., 9., 9.],\n",
       "       [9., 9., 9., 9., 9.],\n",
       "       [9., 9., 9., 9., 9.],\n",
       "       [9., 9., 9., 9., 9.]], dtype=float32)>"
      ]
     },
     "execution_count": 12,
     "metadata": {},
     "output_type": "execute_result"
    }
   ],
   "source": [
    "tf.square(x_t*3) # square a tensor"
   ]
  },
  {
   "cell_type": "code",
   "execution_count": 13,
   "id": "853cd59d",
   "metadata": {},
   "outputs": [],
   "source": [
    "# Now lets see numpy way"
   ]
  },
  {
   "cell_type": "code",
   "execution_count": 14,
   "id": "684eda17",
   "metadata": {},
   "outputs": [
    {
     "data": {
      "text/plain": [
       "array([[1., 1., 1.],\n",
       "       [1., 1., 1.]])"
      ]
     },
     "execution_count": 14,
     "metadata": {},
     "output_type": "execute_result"
    }
   ],
   "source": [
    "x_np = np.ones((2,3))\n",
    "x_np"
   ]
  },
  {
   "cell_type": "code",
   "execution_count": 15,
   "id": "59c4fe50",
   "metadata": {},
   "outputs": [
    {
     "data": {
      "text/plain": [
       "array([[3., 3., 3.],\n",
       "       [3., 3., 3.]])"
      ]
     },
     "execution_count": 15,
     "metadata": {},
     "output_type": "execute_result"
    }
   ],
   "source": [
    "x_np*3"
   ]
  },
  {
   "cell_type": "code",
   "execution_count": 16,
   "id": "89b9d8bf",
   "metadata": {},
   "outputs": [
    {
     "data": {
      "text/plain": [
       "array([[9., 9., 9.],\n",
       "       [9., 9., 9.]])"
      ]
     },
     "execution_count": 16,
     "metadata": {},
     "output_type": "execute_result"
    }
   ],
   "source": [
    "np.square(x_np*3) "
   ]
  },
  {
   "cell_type": "code",
   "execution_count": 17,
   "id": "dd4a7139",
   "metadata": {},
   "outputs": [
    {
     "data": {
      "text/plain": [
       "array([[9., 9., 9., 9., 9.],\n",
       "       [9., 9., 9., 9., 9.],\n",
       "       [9., 9., 9., 9., 9.],\n",
       "       [9., 9., 9., 9., 9.]], dtype=float32)"
      ]
     },
     "execution_count": 17,
     "metadata": {},
     "output_type": "execute_result"
    }
   ],
   "source": [
    "np.square(x_t*3) # numpy array can operate on a tensorflow tensor"
   ]
  },
  {
   "cell_type": "code",
   "execution_count": 18,
   "id": "ea44f38c",
   "metadata": {},
   "outputs": [
    {
     "data": {
      "text/plain": [
       "<tf.Tensor: shape=(2, 3), dtype=float64, numpy=\n",
       "array([[9., 9., 9.],\n",
       "       [9., 9., 9.]])>"
      ]
     },
     "execution_count": 18,
     "metadata": {},
     "output_type": "execute_result"
    }
   ],
   "source": [
    "tf.square(x_np*3) # or tensor can operate on a numpy array"
   ]
  },
  {
   "cell_type": "code",
   "execution_count": 19,
   "id": "b50b444f",
   "metadata": {},
   "outputs": [
    {
     "data": {
      "text/plain": [
       "array([[9., 9., 9.],\n",
       "       [9., 9., 9.]])"
      ]
     },
     "execution_count": 19,
     "metadata": {},
     "output_type": "execute_result"
    }
   ],
   "source": [
    "tf.square(x_np*3).numpy() # to convert a tensor back to numpy"
   ]
  },
  {
   "cell_type": "code",
   "execution_count": 20,
   "id": "ab91b0f8",
   "metadata": {},
   "outputs": [
    {
     "data": {
      "text/plain": [
       "<tf.Tensor: shape=(2, 3), dtype=float64, numpy=\n",
       "array([[1., 1., 1.],\n",
       "       [1., 1., 1.]])>"
      ]
     },
     "execution_count": 20,
     "metadata": {},
     "output_type": "execute_result"
    }
   ],
   "source": [
    "tf.convert_to_tensor(x_np) # to convert a numpy array back to tensor"
   ]
  },
  {
   "cell_type": "markdown",
   "id": "dc099b97",
   "metadata": {},
   "source": [
    "#### Similarly u have many other math operations. tf.sqrt(x),tf.matmul, tf.exp()\n",
    "#### https://www.tensorflow.org/api_docs/python/tf/math for a complete list"
   ]
  },
  {
   "cell_type": "markdown",
   "id": "bc5636b0",
   "metadata": {},
   "source": [
    "**Similar numpy universal functions & math operations**\n",
    "\n",
    "https://numpy.org/doc/stable/reference/ufuncs.html"
   ]
  },
  {
   "cell_type": "markdown",
   "id": "3e7185fb",
   "metadata": {},
   "source": [
    "**What is the difference between numpy and tensorflow then?**"
   ]
  },
  {
   "cell_type": "code",
   "execution_count": 21,
   "id": "54f1ce51",
   "metadata": {},
   "outputs": [],
   "source": [
    "# TF Tensors\n",
    "#------------\n",
    "# Tensors are part of Tensorflow powerful library for ML/DL\n",
    "# TensorFlow has a broad ecosystem designed for machine learning and deep learning, \n",
    "#...including tools like Keras, TensorFlow Lite for mobile, TensorFlow.js \n",
    "# Tensors can perform optimizations and hardware acceleration on CPU, GPU, TPU. \n",
    "# tensors are immutable. Useful for optimization in computation graphs..we will learn later\n",
    "# Most important: Can compute gradients of any differentiable expression with respect to any of its inputs\n",
    "\n",
    "#Numpy\n",
    "#------------------------\n",
    "# Numpy mainly designed for scientific computing and used extensively for Data science/ML/DL\n",
    "# Numpy primarily  runs and optimized for cpu.  doesnt inherently support GPU accelation\n",
    "# Numpy arrays are mutable\n",
    "# Numpy cannot compute the gradients."
   ]
  },
  {
   "cell_type": "markdown",
   "id": "c09a962c",
   "metadata": {},
   "source": [
    "**Immutability**"
   ]
  },
  {
   "cell_type": "code",
   "execution_count": 22,
   "id": "ebc1bf9c",
   "metadata": {},
   "outputs": [
    {
     "data": {
      "text/plain": [
       "<tf.Tensor: shape=(2, 2), dtype=float32, numpy=\n",
       "array([[1.8791792, 1.5895296],\n",
       "       [2.2753716, 1.5254653]], dtype=float32)>"
      ]
     },
     "execution_count": 22,
     "metadata": {},
     "output_type": "execute_result"
    }
   ],
   "source": [
    "tf.random.set_seed(5)\n",
    "x = tf.random.uniform((2,2),0,3) # create a tensor filled with uniform values between 0 and 3\n",
    "x"
   ]
  },
  {
   "cell_type": "code",
   "execution_count": 23,
   "id": "3d29671c",
   "metadata": {},
   "outputs": [
    {
     "ename": "TypeError",
     "evalue": "'tensorflow.python.framework.ops.EagerTensor' object does not support item assignment",
     "output_type": "error",
     "traceback": [
      "\u001b[1;31m---------------------------------------------------------------------------\u001b[0m",
      "\u001b[1;31mTypeError\u001b[0m                                 Traceback (most recent call last)",
      "Cell \u001b[1;32mIn [23], line 2\u001b[0m\n\u001b[0;32m      1\u001b[0m \u001b[38;5;66;03m# Now if u want to modify the created tensor, u cannot do it because its immutable\u001b[39;00m\n\u001b[1;32m----> 2\u001b[0m \u001b[43mx\u001b[49m\u001b[43m[\u001b[49m\u001b[38;5;241;43m0\u001b[39;49m\u001b[43m,\u001b[49m\u001b[38;5;241;43m1\u001b[39;49m\u001b[43m]\u001b[49m \u001b[38;5;241m=\u001b[39m \u001b[38;5;241m5\u001b[39m\n",
      "\u001b[1;31mTypeError\u001b[0m: 'tensorflow.python.framework.ops.EagerTensor' object does not support item assignment"
     ]
    }
   ],
   "source": [
    "# Now if u want to modify the created tensor, u cannot do it because its immutable\n",
    "x[0,1] = 5"
   ]
  },
  {
   "cell_type": "code",
   "execution_count": 25,
   "id": "f562c11e",
   "metadata": {},
   "outputs": [
    {
     "data": {
      "text/plain": [
       "array([[0.66597951, 2.61219692],\n",
       "       [0.62015747, 2.75583272]])"
      ]
     },
     "execution_count": 25,
     "metadata": {},
     "output_type": "execute_result"
    }
   ],
   "source": [
    "# But if its a numpy array, we can ofcouse modify a created array\n",
    "np.random.seed(5)\n",
    "x = np.random.uniform(0,3,size=(2,2))\n",
    "x"
   ]
  },
  {
   "cell_type": "code",
   "execution_count": 26,
   "id": "adbd1de9",
   "metadata": {},
   "outputs": [
    {
     "data": {
      "text/plain": [
       "array([[0.66597951, 5.        ],\n",
       "       [0.62015747, 2.75583272]])"
      ]
     },
     "execution_count": 26,
     "metadata": {},
     "output_type": "execute_result"
    }
   ],
   "source": [
    "x[0,1] = 5\n",
    "x"
   ]
  },
  {
   "cell_type": "code",
   "execution_count": 27,
   "id": "bff6756c",
   "metadata": {},
   "outputs": [
    {
     "data": {
      "text/plain": [
       "<tf.Variable 'Variable:0' shape=(2, 2) dtype=float32, numpy=\n",
       "array([[1.8791792, 1.5895296],\n",
       "       [2.2753716, 1.5254653]], dtype=float32)>"
      ]
     },
     "execution_count": 27,
     "metadata": {},
     "output_type": "execute_result"
    }
   ],
   "source": [
    "# There is a seperate class which is mutable and that is Tensorflow Variable.\n",
    "# If the same array we create as a tensorflow variable, we can modify it\n",
    "tf.random.set_seed(5)\n",
    "x = tf.Variable(tf.random.uniform((2,2),0,3))\n",
    "x"
   ]
  },
  {
   "cell_type": "code",
   "execution_count": 28,
   "id": "9a7df067",
   "metadata": {},
   "outputs": [
    {
     "data": {
      "text/plain": [
       "<tf.Variable 'Variable:0' shape=(2, 2) dtype=float32, numpy=\n",
       "array([[1.8791792, 5.       ],\n",
       "       [2.2753716, 1.5254653]], dtype=float32)>"
      ]
     },
     "execution_count": 28,
     "metadata": {},
     "output_type": "execute_result"
    }
   ],
   "source": [
    "# we can modify a tensor variable. But we have to use the assign method to update it. \n",
    "# assign(), assign_add(), assign_sub() there are many such methods we can use to modify a tensorflow variable.\n",
    "x[0,1].assign(5)\n",
    "x"
   ]
  },
  {
   "cell_type": "code",
   "execution_count": 29,
   "id": "b59b9ac0",
   "metadata": {},
   "outputs": [],
   "source": [
    "# Any tensors that dont change, create them as contants\n",
    "# Any tensors that you think will need to be updated or change, use tf.Variable"
   ]
  },
  {
   "cell_type": "markdown",
   "id": "d0892076",
   "metadata": {},
   "source": [
    "**Gradient calculation (using GradientTape())**"
   ]
  },
  {
   "cell_type": "code",
   "execution_count": 30,
   "id": "030163ed",
   "metadata": {},
   "outputs": [],
   "source": [
    "# Another important aspect of Tensorflow tensors. \n",
    "# you can calculate the gradient of any differential expression with respect to its inputs. \n",
    "#..U can't do this with nump array"
   ]
  },
  {
   "cell_type": "code",
   "execution_count": 31,
   "id": "40831cd7",
   "metadata": {},
   "outputs": [
    {
     "data": {
      "text/plain": [
       "<tf.Tensor: shape=(), dtype=float32, numpy=16.0>"
      ]
     },
     "execution_count": 31,
     "metadata": {},
     "output_type": "execute_result"
    }
   ],
   "source": [
    "# from physics lets say distance = 4*time^2, for an object moving with some speed\n",
    "# What is the speed of the object? we take derivate of distance with respect to time, \n",
    "# ..lets say at time =2 sec\n",
    "\n",
    "# lets do this with tensorflow GradientTape\n",
    "t = tf.Variable(2.0)\n",
    "with tf.GradientTape() as tape:\n",
    "    d = 4*t**2\n",
    "speed = tape.gradient(d,t)\n",
    "speed"
   ]
  },
  {
   "cell_type": "code",
   "execution_count": 32,
   "id": "0f464381",
   "metadata": {},
   "outputs": [
    {
     "name": "stdout",
     "output_type": "stream",
     "text": [
      "Speed: 16.0\n",
      "Acceleration: 8.0\n"
     ]
    }
   ],
   "source": [
    "t = tf.Variable(2.0)\n",
    "with tf.GradientTape() as outer_tape:\n",
    "    with tf.GradientTape() as inner_tape:\n",
    "        d = 4*t**2\n",
    "    speed = inner_tape.gradient(d,t)\n",
    "acceleration =  outer_tape.gradient(speed,t)\n",
    "\n",
    "print (f'Speed: {speed}')\n",
    "print (f'Acceleration: {acceleration}')"
   ]
  },
  {
   "cell_type": "code",
   "execution_count": null,
   "id": "ec2bcf2c",
   "metadata": {},
   "outputs": [],
   "source": [
    "#So why is this important?\n",
    "# for example to calculate the gradient of cost function dJ/dw"
   ]
  },
  {
   "cell_type": "markdown",
   "id": "7951e5e3",
   "metadata": {},
   "source": [
    "<img style=\"float: left;\" src=\"./images/DL-Intuition3.png\" Width=\"500\">\n",
    "\n",
    "<img style=\"float: left;\" src=\"./images/cross_entropy_loss.png\" Width=\"200\">\n",
    "\n",
    "<img style=\"float: left;\" src=\"./images/forward_prop_equations.png\" Width=\"900\">\n",
    "\n"
   ]
  },
  {
   "cell_type": "code",
   "execution_count": null,
   "id": "6ab37f3c",
   "metadata": {},
   "outputs": [],
   "source": [
    "# In principle we can build the entire deep learning model by training on any dataset using just tensorflow\n",
    "# Because just like numpy it can do all kinds of tensor or basically math operations.\n",
    "\n",
    "# and most importantly it can do gradient calculation required to do Gradient decent "
   ]
  },
  {
   "cell_type": "markdown",
   "id": "156fda68",
   "metadata": {},
   "source": [
    "**Keras API**\n",
    "\n",
    "Abstracts away all these low level tensor or math manipulations for building deep learning models\n",
    "\n",
    "* Layers – To build the model or Network Architecture\n",
    "* Loss function – Feedback signal for learning\n",
    "* Optimizer – Determines how to use the loss function for updating weights\n",
    "* Metrics – Evaluate model performance (Ex: Accuracy)\n",
    "* Training loop – Loops over the training data in mini batches performing (forward propagation, backward propagation & updating weights)\n"
   ]
  },
  {
   "cell_type": "code",
   "execution_count": null,
   "id": "63f5373a",
   "metadata": {},
   "outputs": [],
   "source": []
  }
 ],
 "metadata": {
  "kernelspec": {
   "display_name": "Python 3 (ipykernel)",
   "language": "python",
   "name": "python3"
  },
  "language_info": {
   "codemirror_mode": {
    "name": "ipython",
    "version": 3
   },
   "file_extension": ".py",
   "mimetype": "text/x-python",
   "name": "python",
   "nbconvert_exporter": "python",
   "pygments_lexer": "ipython3",
   "version": "3.8.20"
  }
 },
 "nbformat": 4,
 "nbformat_minor": 5
}
